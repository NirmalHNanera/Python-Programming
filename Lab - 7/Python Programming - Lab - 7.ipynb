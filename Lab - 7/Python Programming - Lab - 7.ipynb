{
 "cells": [
  {
   "cell_type": "markdown",
   "metadata": {},
   "source": [
    "<a href='https://www.darshan.ac.in/'> <img src='https://www.darshan.ac.in/Content/media/DU_Logo.svg' width=\"250\" height=\"300\"/></a>\n",
    "<pre>\n",
    "<center><b><h1>Python Programming - 2101CS405</b></center>\n",
    "<center><b><h1>Lab - 7</b></center>    \n",
    "<pre>"
   ]
  },
  {
   "cell_type": "markdown",
   "metadata": {},
   "source": [
    "# Functions"
   ]
  },
  {
   "cell_type": "markdown",
   "metadata": {},
   "source": [
    "### 01) WAP to count simple interest using function."
   ]
  },
  {
   "cell_type": "code",
   "execution_count": 1,
   "metadata": {},
   "outputs": [
    {
     "name": "stdout",
     "output_type": "stream",
     "text": [
      "Enter P : 1000\n",
      "Enter R : 1\n",
      "Enter N : 1\n",
      "Simple Interest : 10.0\n"
     ]
    }
   ],
   "source": [
    "def SI(p,r,n):\n",
    "    print(f\"Simple Interest : {p*r*n/100}\")\n",
    "p = int(input(\"Enter P : \"))\n",
    "r = int(input(\"Enter R : \"))\n",
    "n = int(input(\"Enter N : \"))\n",
    "SI(p,r,n)"
   ]
  },
  {
   "cell_type": "markdown",
   "metadata": {},
   "source": [
    "### 02) WAP that defines a function to add first n numbers."
   ]
  },
  {
   "cell_type": "code",
   "execution_count": 2,
   "metadata": {},
   "outputs": [
    {
     "name": "stdout",
     "output_type": "stream",
     "text": [
      "Enter number of elements : 10\n",
      "Addition of first 10 numbers is 55\n"
     ]
    }
   ],
   "source": [
    "def add(a):\n",
    "    sum=0\n",
    "    for i in a:\n",
    "        sum+=i\n",
    "    return sum\n",
    "n = int(input(\"Enter number of elements : \"))\n",
    "li=[]\n",
    "for i in range(1,n+1):\n",
    "    li.append(i)\n",
    "print(f\"Addition of first {n} numbers is {add(li)}\")"
   ]
  },
  {
   "cell_type": "markdown",
   "metadata": {},
   "source": [
    "### 03) WAP to find maximum number from given two numbers using function."
   ]
  },
  {
   "cell_type": "code",
   "execution_count": 3,
   "metadata": {},
   "outputs": [
    {
     "name": "stdout",
     "output_type": "stream",
     "text": [
      "Enter number 1 : 10\n",
      "Enter number 2 : 20\n",
      "Maximum numbers from 10 and 20 is 20\n"
     ]
    }
   ],
   "source": [
    "def maxNumber(n1,n2):\n",
    "    print(f\"Maximum numbers from {n1} and {n2} is {n1 if n1>n2 else n2}\")\n",
    "n1 = int(input(\"Enter number 1 : \"))\n",
    "n2 = int(input(\"Enter number 2 : \"))\n",
    "maxNumber(n1,n2)"
   ]
  },
  {
   "cell_type": "markdown",
   "metadata": {},
   "source": [
    "### 04) WAP that defines a function which returns 1 if the number is prime otherwise return 0."
   ]
  },
  {
   "cell_type": "code",
   "execution_count": 4,
   "metadata": {},
   "outputs": [
    {
     "name": "stdout",
     "output_type": "stream",
     "text": [
      "Enter a number 13\n"
     ]
    },
    {
     "data": {
      "text/plain": [
       "1"
      ]
     },
     "execution_count": 4,
     "metadata": {},
     "output_type": "execute_result"
    }
   ],
   "source": [
    "def prime(n):\n",
    "    for i in range(2,n):\n",
    "        if(n%i==0):\n",
    "            return 0\n",
    "    return 1\n",
    "n = int(input(\"Enter a number \"))\n",
    "prime(n)"
   ]
  },
  {
   "cell_type": "markdown",
   "metadata": {},
   "source": [
    "### 05) Write a function called primes that takes an integer value as an argument and returns a list of all prime numbers up to that number."
   ]
  },
  {
   "cell_type": "code",
   "execution_count": 5,
   "metadata": {},
   "outputs": [
    {
     "name": "stdout",
     "output_type": "stream",
     "text": [
      "Enter n : 10\n",
      "Prime numbers up to 10 are 2 3 5 7 "
     ]
    }
   ],
   "source": [
    "def primes(n):\n",
    "    for i in range(2,n+1):\n",
    "        for j in range(2,i):\n",
    "            if(i%j==0):\n",
    "                break\n",
    "        else:\n",
    "            print(i,end=\" \")\n",
    "n = int(input(\"Enter n : \"))\n",
    "print(f\"Prime numbers up to {n} are \",end=\"\")\n",
    "primes(n)"
   ]
  },
  {
   "cell_type": "markdown",
   "metadata": {},
   "source": [
    "### 06) WAP to generate Fibonacci series of N given number using function name fibbo. (e.g. 0 1 1 2 3 5 8...)"
   ]
  },
  {
   "cell_type": "code",
   "execution_count": 6,
   "metadata": {},
   "outputs": [
    {
     "name": "stdout",
     "output_type": "stream",
     "text": [
      "Enter n : 10\n",
      "0 1 1 2 3 5 8 13 21 34 "
     ]
    }
   ],
   "source": [
    "def fibbo(n):\n",
    "    if(n==0):\n",
    "        return 0\n",
    "    elif(n==1):\n",
    "        return 1\n",
    "    else:\n",
    "        return fibbo(n-1)+fibbo(n-2)\n",
    "n = int(input(\"Enter n : \"))\n",
    "for i in range(n):\n",
    "    print(f\"{fibbo(i)}\",end=\" \")"
   ]
  },
  {
   "cell_type": "markdown",
   "metadata": {},
   "source": [
    "### 07) WAP to find the factorial of a given number using recursion."
   ]
  },
  {
   "cell_type": "code",
   "execution_count": 7,
   "metadata": {},
   "outputs": [
    {
     "name": "stdout",
     "output_type": "stream",
     "text": [
      "Enter a number : 5\n",
      "Factorial of 5 is 120\n"
     ]
    }
   ],
   "source": [
    "def factorial(n):\n",
    "    if n==0 or n==1:\n",
    "        return 1\n",
    "    return n*factorial(n-1)\n",
    "n = int(input(\"Enter a number : \"))\n",
    "print(f\"Factorial of {n} is {factorial(n)}\")"
   ]
  },
  {
   "cell_type": "markdown",
   "metadata": {},
   "source": [
    "### 08) WAP to implement simple calculator using lamda function."
   ]
  },
  {
   "cell_type": "code",
   "execution_count": 8,
   "metadata": {},
   "outputs": [
    {
     "name": "stdout",
     "output_type": "stream",
     "text": [
      "Enter n1 : 10\n",
      "Enter n2 : 20\n",
      "Enter operator : +\n",
      "10+20 = 30\n"
     ]
    }
   ],
   "source": [
    "ans = lambda n1,n2,op: (f\"{n1}{op}{n2} = {n1+n2 if op=='+' else n1-n2 if op=='-' else n1*n2 if op=='*' else n1/n2 if op=='/' and n2!=0 else 'Invalid'}\")\n",
    "n1 = int(input(\"Enter n1 : \"))\n",
    "n2 = int(input(\"Enter n2 : \"))\n",
    "op = input(\"Enter operator : \")\n",
    "print(ans(n1,n2,op))"
   ]
  },
  {
   "cell_type": "markdown",
   "metadata": {},
   "source": [
    "### 09)Write a Python program that accepts a hyphen-separated sequence of words as input and prints the words in a hyphen-separated sequence after sorting them alphabetically\n",
    "Sample Items : green-red-yellow-black-white <br>\n",
    "Expected Result : black-green-red-white-yellow"
   ]
  },
  {
   "cell_type": "code",
   "execution_count": 13,
   "metadata": {},
   "outputs": [
    {
     "name": "stdout",
     "output_type": "stream",
     "text": [
      "Enter hyphen-separated string : green-red-yellow-black-white\n",
      "black-green-red-white-yellow\n"
     ]
    }
   ],
   "source": [
    "str1 = input(\"Enter hyphen-separated string : \")\n",
    "li = str1.split('-')\n",
    "li.sort()\n",
    "print(\"-\".join(li))"
   ]
  },
  {
   "cell_type": "markdown",
   "metadata": {},
   "source": [
    "### 10) Write a python program to implement all function arguments type\n",
    "Positional arguments <Br>\n",
    "Default argument <Br>\n",
    "Keyword arguments (named arguments) <Br>\n",
    "Arbitrary arguments (variable-length arguments args and kwargs)"
   ]
  },
  {
   "cell_type": "code",
   "execution_count": 14,
   "metadata": {},
   "outputs": [
    {
     "name": "stdout",
     "output_type": "stream",
     "text": [
      "Sum using Arbitary Arguments = 7\n",
      "Sum using Positional Arguments = 7\n",
      "Sum using Default Arguments = 7\n",
      "Sum using Keyword Arguments = 7\n"
     ]
    }
   ],
   "source": [
    "# Positional argument\n",
    "def addPositional(a,b):\n",
    "    return a+b\n",
    "def addDefault(a,b=0):\n",
    "    return a+b\n",
    "def addKeyword(a,b):\n",
    "    return a+b\n",
    "def addArbitary(*a):\n",
    "    sum=0;\n",
    "    for i in a:\n",
    "        sum+=i\n",
    "    return sum\n",
    "print(f\"Sum using Arbitary Arguments = {addArbitary(1,2,3,1)}\")\n",
    "print(f\"Sum using Positional Arguments = {addPositional(4,3)}\")\n",
    "print(f\"Sum using Default Arguments = {addDefault(7)}\")\n",
    "print(f\"Sum using Keyword Arguments = {addKeyword(b=2,a=5)}\")"
   ]
  },
  {
   "cell_type": "markdown",
   "metadata": {},
   "source": [
    "### 01) WAP to calculate power of a number using recursion."
   ]
  },
  {
   "cell_type": "code",
   "execution_count": 15,
   "metadata": {},
   "outputs": [
    {
     "name": "stdout",
     "output_type": "stream",
     "text": [
      "Enter a base : 2\n",
      "Enter a power : 5\n",
      "2 raised to 5 =  32\n"
     ]
    }
   ],
   "source": [
    "def power(x,p):\n",
    "    if p==1:\n",
    "        return x\n",
    "    else:\n",
    "        return (x*power(x,p-1))\n",
    "x=int(input(\"Enter a base : \"))\n",
    "p=int(input(\"Enter a power : \"))\n",
    "print(f\"{x} raised to {p} = \",power(x,p))"
   ]
  },
  {
   "cell_type": "markdown",
   "metadata": {},
   "source": [
    "### 02) WAP to count digits of a number using recursion."
   ]
  },
  {
   "cell_type": "code",
   "execution_count": 16,
   "metadata": {},
   "outputs": [
    {
     "name": "stdout",
     "output_type": "stream",
     "text": [
      "Enter a number : 12345\n",
      "number of digit in 12345 is  5\n"
     ]
    }
   ],
   "source": [
    "def countDigit(n):\n",
    "    if(n<10):\n",
    "        return 1\n",
    "    return 1+countDigit(n//10)\n",
    "n=int(input(\"Enter a number : \"))\n",
    "print(f\"number of digit in {n} is \",countDigit(n))\n",
    "    "
   ]
  },
  {
   "cell_type": "markdown",
   "metadata": {},
   "source": [
    "### 03) WAP to reverse an integer number using recursion."
   ]
  },
  {
   "cell_type": "code",
   "execution_count": 17,
   "metadata": {},
   "outputs": [
    {
     "name": "stdout",
     "output_type": "stream",
     "text": [
      "Enter a number : 123\n",
      "Reverse no. of 123 is 321\n"
     ]
    }
   ],
   "source": [
    "reverse=0\n",
    "def reverse_number(n):\n",
    "    global reverse\n",
    "    if n>0:\n",
    "        reminder=n%10\n",
    "        reverse=reverse*10+reminder\n",
    "        reverse_number(n//10)\n",
    "    return reverse\n",
    "n = int(input(\"Enter a number : \"))\n",
    "print(f\"Reverse no. of {n} is {reverse_number(n)}\")"
   ]
  },
  {
   "cell_type": "markdown",
   "metadata": {},
   "source": [
    "### 04) WAP to convert decimal number into binary using recursion."
   ]
  },
  {
   "cell_type": "code",
   "execution_count": 18,
   "metadata": {},
   "outputs": [
    {
     "name": "stdout",
     "output_type": "stream",
     "text": [
      "Enter a number : 7\n",
      "Binary no. of 7 is 111\n"
     ]
    }
   ],
   "source": [
    "def decimalToBinary(n):\n",
    "    if n==0:\n",
    "        return 0\n",
    "    return n%2+10*(decimalToBinary(n//2))\n",
    "n = int(input(\"Enter a number : \"))\n",
    "print(f\"Binary no. of {n} is {decimalToBinary(n)}\")"
   ]
  }
 ],
 "metadata": {
  "kernelspec": {
   "display_name": "Python 3 (ipykernel)",
   "language": "python",
   "name": "python3"
  },
  "language_info": {
   "codemirror_mode": {
    "name": "ipython",
    "version": 3
   },
   "file_extension": ".py",
   "mimetype": "text/x-python",
   "name": "python",
   "nbconvert_exporter": "python",
   "pygments_lexer": "ipython3",
   "version": "3.9.12"
  }
 },
 "nbformat": 4,
 "nbformat_minor": 4
}
