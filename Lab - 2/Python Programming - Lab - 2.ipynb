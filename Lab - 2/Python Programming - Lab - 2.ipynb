{
 "cells": [
  {
   "cell_type": "markdown",
   "metadata": {},
   "source": [
    "\n",
    "<a href='https://www.darshan.ac.in/'> <img src='https://www.darshan.ac.in/Content/media/DU_Logo.svg' width=\"250\" height=\"300\"/></a>\n",
    "<pre>\n",
    "<center><b><h1>Python Programming - 2101CS405</b></center>\n",
    "<center><b><h1>Lab - 2</b></center>    \n",
    "<pre>"
   ]
  },
  {
   "cell_type": "markdown",
   "metadata": {},
   "source": [
    "# if..else.."
   ]
  },
  {
   "cell_type": "markdown",
   "metadata": {},
   "source": [
    "### 01) WAP to check whether the given number is positive or negative."
   ]
  },
  {
   "cell_type": "code",
   "execution_count": 1,
   "metadata": {},
   "outputs": [
    {
     "name": "stdout",
     "output_type": "stream",
     "text": [
      "Enter a number : 7\n",
      "7 is positive number\n"
     ]
    }
   ],
   "source": [
    "n = int(input(\"Enter a number : \"))\n",
    "if(n>0):\n",
    "    print(f\"{n} is positive number\")\n",
    "elif(n<0):\n",
    "    print(f\"{n} is negative number\")\n",
    "else:\n",
    "    print(f\"{n} is Zero\")"
   ]
  },
  {
   "cell_type": "markdown",
   "metadata": {},
   "source": [
    "### 02) WAP to check whether the given number is odd or even"
   ]
  },
  {
   "cell_type": "code",
   "execution_count": 2,
   "metadata": {},
   "outputs": [
    {
     "name": "stdout",
     "output_type": "stream",
     "text": [
      "Enter a number : 7\n",
      "7 is odd number\n"
     ]
    }
   ],
   "source": [
    "n = int(input(\"Enter a number : \"))\n",
    "if(n%2==0):\n",
    "    print(f\"{n} is even number\")\n",
    "else:\n",
    "    print(f\"{n} is odd number\")"
   ]
  },
  {
   "cell_type": "markdown",
   "metadata": {},
   "source": [
    "### 03) WAP to find out largest number from given two numbers using simple if and ternary operator."
   ]
  },
  {
   "cell_type": "code",
   "execution_count": 3,
   "metadata": {},
   "outputs": [
    {
     "name": "stdout",
     "output_type": "stream",
     "text": [
      "Enter 1st number : 7\n",
      "Enter 2nd number : 6\n",
      "7 is largest number\n",
      "Enter 1st number : 7\n",
      "Enter 2nd number : 6\n",
      "7 is larget number\n"
     ]
    }
   ],
   "source": [
    "# (i) Using if\n",
    "n1 = int(input(\"Enter 1st number : \"))\n",
    "n2 = int(input(\"Enter 2nd number : \"))\n",
    "if n1>=n2:\n",
    "    print(f\"{n1} is largest number\")\n",
    "else:\n",
    "    print(f\"{n2} is larget number\")\n",
    "\n",
    "# (ii) Using ternary\n",
    "n1 = int(input(\"Enter 1st number : \"))\n",
    "n2 = int(input(\"Enter 2nd number : \"))\n",
    "print(f\"{n1 if n1>=n2 else n2} is larget number\")"
   ]
  },
  {
   "cell_type": "markdown",
   "metadata": {},
   "source": [
    "### 04) WAP to find out largest number from given three numbers."
   ]
  },
  {
   "cell_type": "code",
   "execution_count": 4,
   "metadata": {},
   "outputs": [
    {
     "name": "stdout",
     "output_type": "stream",
     "text": [
      "Enter 1st number : 7\n",
      "Enter 2nd number : 6\n",
      "Enter 3rd number : 5\n",
      "7 is largest number\n"
     ]
    }
   ],
   "source": [
    "n1 = int(input(\"Enter 1st number : \"))\n",
    "n2 = int(input(\"Enter 2nd number : \"))\n",
    "n3 = int(input(\"Enter 3rd number : \"))\n",
    "print(f\"{n1 if n1>n2 and n1>n3 else n2 if n2>n3 else n3} is largest number\")"
   ]
  },
  {
   "cell_type": "markdown",
   "metadata": {},
   "source": [
    "### 05) WAP to check whether the given year is leap year or not.\n",
    "[If a year can be divisible by 4 but not divisible by 100 then it is leap year but if it is divisible by 400 then it is leap year]"
   ]
  },
  {
   "cell_type": "code",
   "execution_count": 5,
   "metadata": {},
   "outputs": [
    {
     "name": "stdout",
     "output_type": "stream",
     "text": [
      "Enter year : 2024\n",
      "Leap year\n"
     ]
    }
   ],
   "source": [
    "year = int(input(\"Enter year : \"))\n",
    "if(year%400==0 or (year%4==0 and year%100!=0)):\n",
    "    print(\"Leap year\")\n",
    "else:\n",
    "    print(\"Not leap year\")"
   ]
  },
  {
   "cell_type": "markdown",
   "metadata": {},
   "source": [
    "### 06) WAP in python to display the name of the day according to the number given by the user"
   ]
  },
  {
   "cell_type": "code",
   "execution_count": 6,
   "metadata": {},
   "outputs": [
    {
     "name": "stdout",
     "output_type": "stream",
     "text": [
      "Enter a number : 7\n",
      "Saturday\n"
     ]
    }
   ],
   "source": [
    "n = int(input(\"Enter a number : \"))\n",
    "if n==1:\n",
    "    print(\"Sunday\")\n",
    "elif n==2:\n",
    "    print(\"Monday\")\n",
    "elif n==3:\n",
    "    print(\"Tuesday\")\n",
    "elif n==4:\n",
    "    print(\"Wednesday\")\n",
    "elif n==5:\n",
    "    print(\"Thursday\")\n",
    "elif n==6:\n",
    "    print(\"Friday\")\n",
    "elif n==7:\n",
    "    print(\"Saturday\")\n",
    "else:\n",
    "    print(\"Invalid number\")"
   ]
  },
  {
   "cell_type": "markdown",
   "metadata": {},
   "source": [
    "### 07) WAP to implement simple calculator which performs (add,sub,mul,div) of two no. based on user input."
   ]
  },
  {
   "cell_type": "code",
   "execution_count": 8,
   "metadata": {},
   "outputs": [
    {
     "name": "stdout",
     "output_type": "stream",
     "text": [
      "Enter 1st number : 10\n",
      "Enter 2nd number : 5\n",
      "Enter operator : /\n",
      "Division =  2.0\n"
     ]
    }
   ],
   "source": [
    "n1 = int(input(\"Enter 1st number : \"))\n",
    "n2 = int(input(\"Enter 2nd number : \"))\n",
    "op = input(\"Enter operator : \")\n",
    "if op==\"+\" :\n",
    "    print(\"Addition =\",n1+n2)\n",
    "elif op==\"-\" :\n",
    "    print(\"Substraction =\",n1-n2)\n",
    "elif op==\"*\" :\n",
    "    print(\"Multipliaction =\",n1*n2)\n",
    "elif op==\"/\":\n",
    "    print('Division = ',n1/n2)\n",
    "else:\n",
    "    print('Invalid Operator')\n",
    "\n"
   ]
  },
  {
   "cell_type": "markdown",
   "metadata": {},
   "source": [
    "### 08) WAP to calculate electricity bill based on following criteria. Which takes the unit from the user.\n",
    "a. First 1 to 50 units – Rs. 2.60/unit</br>\n",
    "b. Next 50 to 100 units – Rs. 3.25/unit</br>\n",
    "c. Next 100 to 200 units – Rs. 5.26/unit</br>\n",
    "d. above 200 units – Rs. 8.45/unit"
   ]
  },
  {
   "cell_type": "code",
   "execution_count": 8,
   "metadata": {},
   "outputs": [
    {
     "name": "stdout",
     "output_type": "stream",
     "text": [
      "Enter bill units : 250\n",
      "Bill amount : 1241.0\n"
     ]
    }
   ],
   "source": [
    "billUnits = int(input(\"Enter bill units : \"))\n",
    "\n",
    "if billUnits>=1 and billUnits<=50:\n",
    "    print(f\"Bill amount : {billUnits*2.60}\")\n",
    "elif billUnits<=100:\n",
    "    print(f\"Bill amount : {(130+(billUnits-50)*3.25)}\")\n",
    "elif billUnits<=200:\n",
    "    print(f\"Bill amount : {(292.5+(billUnits-100)*5.26)}\")\n",
    "elif billUnits>200:\n",
    "    print(f\"Bill amount : {(818.5+(billUnits-200)*8.45)}\")\n",
    "else:\n",
    "    print(\"Invalid Units\")"
   ]
  },
  {
   "cell_type": "markdown",
   "metadata": {},
   "source": [
    "### 01) WAP to read marks of five subjects. Calculate percentage and print class accordingly. \n",
    "Fail below 35 </br>\n",
    "Pass Class between 35 to 45 </br>\n",
    "Second Class</br>\n",
    "between 45 to 60</br>\n",
    "First Class between 60 to 70</br> \n",
    "Distinction if more than 70"
   ]
  },
  {
   "cell_type": "code",
   "execution_count": 1,
   "metadata": {},
   "outputs": [
    {
     "name": "stdout",
     "output_type": "stream",
     "text": [
      "Enter marks of 1st Subject : 50\n",
      "Enter marks of 2nd Subject : 50\n",
      "Enter marks of 3rd Subject : 50\n",
      "Enter marks of 4th Subject : 50\n",
      "Enter marks of 5th Subject : 50\n",
      "Class : Second\n"
     ]
    }
   ],
   "source": [
    "m1 = int(input(\"Enter marks of 1st Subject : \"))\n",
    "m2 = int(input(\"Enter marks of 2nd Subject : \"))\n",
    "m3 = int(input(\"Enter marks of 3rd Subject : \"))\n",
    "m4 = int(input(\"Enter marks of 4th Subject : \"))\n",
    "m5 = int(input(\"Enter marks of 5th Subject : \"))\n",
    "\n",
    "percentage = (m1+m2+m3+m4+m5)/5;\n",
    "\n",
    "if percentage<35:\n",
    "    print(\"Class : Fail\")\n",
    "elif percentage>=35 and percentage<45:\n",
    "    print(\"Class : Pass\")\n",
    "elif percentage<60:\n",
    "    print(\"Class : Second\")\n",
    "elif percentage < 70:\n",
    "    print(\"Class : First\")\n",
    "else:\n",
    "    print(\"Class : Distiction\")"
   ]
  },
  {
   "cell_type": "markdown",
   "metadata": {},
   "source": [
    "### 02) WAP to find out the Maximum and Minimum number from given 4 numbers."
   ]
  },
  {
   "cell_type": "code",
   "execution_count": 7,
   "metadata": {},
   "outputs": [
    {
     "name": "stdout",
     "output_type": "stream",
     "text": [
      "Enter 1st number : 5\n",
      "Enter 2nd number : 5\n",
      "Enter 3rd number : 5\n",
      "Enter 4th number : 5\n",
      "5 is Maximum number\n",
      "5 is Minimum number\n"
     ]
    }
   ],
   "source": [
    "n1 = int(input(\"Enter 1st number : \"))\n",
    "n2 = int(input(\"Enter 2nd number : \"))\n",
    "n3 = int(input(\"Enter 3rd number : \"))\n",
    "n4 = int(input(\"Enter 4th number : \"))\n",
    "\n",
    "print(f\"{n1 if n1>n2 and n1>n3 and n1>n4 else n2 if n2>n3 and n2>n4 else n3 if n3>n4 else n4} is Maximum number\")\n",
    "\n",
    "print(f\"{n1 if n1<n2 and n1<n3 and n1<n4 else n2 if n2<n3 and n2<n4 else n3 if n3<n4 else n4} is Minimum number\")"
   ]
  },
  {
   "cell_type": "markdown",
   "metadata": {},
   "source": [
    "### 03) WAP to input an integer number and check the last digit of number is even or odd."
   ]
  },
  {
   "cell_type": "code",
   "execution_count": 10,
   "metadata": {},
   "outputs": [
    {
     "name": "stdout",
     "output_type": "stream",
     "text": [
      "Enter a number : 101\n",
      "Last digit of 101 is odd\n"
     ]
    }
   ],
   "source": [
    "n = int(input(\"Enter a number : \"))\n",
    "if (n%10)%2==0:\n",
    "    print(f\"Last digit of {n} is even\")\n",
    "else:\n",
    "    print(f\"Last digit of {n} is odd\")"
   ]
  },
  {
   "cell_type": "markdown",
   "metadata": {},
   "source": [
    "### 04) WAP to determine the roots of the equation ax2+bx+c=0."
   ]
  },
  {
   "cell_type": "code",
   "execution_count": 5,
   "metadata": {},
   "outputs": [
    {
     "name": "stdout",
     "output_type": "stream",
     "text": [
      "Enter a : 1\n",
      "Enter b : 0\n",
      "Enter c : -1\n",
      "1st root is : 1.0\n",
      "2nd root is : -1.0\n"
     ]
    }
   ],
   "source": [
    "import math\n",
    "a = int(input(\"Enter a : \"))\n",
    "b = int(input(\"Enter b : \"))\n",
    "c = int(input(\"Enter c : \"))\n",
    "\n",
    "d = (b*b)-(4*a*c)\n",
    "sqrtOfD = math.sqrt(abs(d))\n",
    "if d==0:\n",
    "    print(f\"Both same roots are : {(-b)/(2*a)}\")\n",
    "elif d>0:\n",
    "    print(f\"1st root is : {(-b+sqrtOfD)/(2*a)}\")\n",
    "    print(f\"2nd root is : {(-b-sqrtOfD)/(2*a)}\")\n",
    "else:\n",
    "    print(f\"1st root is : {((-b)/(2*a))} + i {(sqrtOfD/(2*a))}\")\n",
    "    print(f\"1st root is : {((-b)/(2*a))} - i {(sqrtOfD/(2*a))}\")"
   ]
  }
 ],
 "metadata": {
  "kernelspec": {
   "display_name": "Python 3 (ipykernel)",
   "language": "python",
   "name": "python3"
  },
  "language_info": {
   "codemirror_mode": {
    "name": "ipython",
    "version": 3
   },
   "file_extension": ".py",
   "mimetype": "text/x-python",
   "name": "python",
   "nbconvert_exporter": "python",
   "pygments_lexer": "ipython3",
   "version": "3.9.12"
  }
 },
 "nbformat": 4,
 "nbformat_minor": 4
}
