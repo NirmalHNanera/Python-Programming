{
 "cells": [
  {
   "cell_type": "markdown",
   "metadata": {},
   "source": [
    "<a href='https://www.darshan.ac.in/'> <img src='https://www.darshan.ac.in/Content/media/DU_Logo.svg' width=\"250\" height=\"300\"/></a>\n",
    "<pre>\n",
    "<center><b><h1>Python Programming - 2101CS405</b></center>\n",
    "<center><b><h1>Lab - 9</b></center>    \n",
    "<pre>"
   ]
  },
  {
   "cell_type": "markdown",
   "metadata": {},
   "source": [
    "# Exception Handling"
   ]
  },
  {
   "cell_type": "markdown",
   "metadata": {},
   "source": [
    "# A"
   ]
  },
  {
   "cell_type": "markdown",
   "metadata": {},
   "source": [
    "### 01) WAP to handle divide by zero exception."
   ]
  },
  {
   "cell_type": "code",
   "execution_count": 1,
   "metadata": {},
   "outputs": [
    {
     "name": "stdout",
     "output_type": "stream",
     "text": [
      "Enter 1st number : 5\n",
      "Enter 2nd number : 0\n",
      "Zero Division Error\n",
      "division by zero\n"
     ]
    }
   ],
   "source": [
    "a=int(input(\"Enter 1st number : \"))\n",
    "b=int(input(\"Enter 2nd number : \"))\n",
    "try:\n",
    "    print(f\"Division = {a/b}\")\n",
    "except ZeroDivisionError as e:\n",
    "    print(\"Zero Division Error\")\n",
    "    print(e.args[0])"
   ]
  },
  {
   "cell_type": "markdown",
   "metadata": {},
   "source": [
    "### 02)  Write a Python program that inputs a number and generates an error message if it is not a number."
   ]
  },
  {
   "cell_type": "code",
   "execution_count": 2,
   "metadata": {},
   "outputs": [
    {
     "name": "stdout",
     "output_type": "stream",
     "text": [
      "Enter a number : asdf\n",
      "Value Error\n"
     ]
    }
   ],
   "source": [
    "try:\n",
    "    n=int(input(\"Enter a number : \"))\n",
    "except ValueError:\n",
    "    print(\"Value Error\")"
   ]
  },
  {
   "cell_type": "markdown",
   "metadata": {},
   "source": [
    "### 03) WAP to handle file not found Exception"
   ]
  },
  {
   "cell_type": "code",
   "execution_count": 3,
   "metadata": {},
   "outputs": [
    {
     "name": "stdout",
     "output_type": "stream",
     "text": [
      "File not found\n"
     ]
    }
   ],
   "source": [
    "try:\n",
    "    file=open(\"xyz.txt\")\n",
    "except FileNotFoundError:\n",
    "    print(\"File not found\")"
   ]
  },
  {
   "cell_type": "markdown",
   "metadata": {},
   "source": [
    "### 04) WAP to handle type Exception."
   ]
  },
  {
   "cell_type": "code",
   "execution_count": 4,
   "metadata": {},
   "outputs": [
    {
     "name": "stdout",
     "output_type": "stream",
     "text": [
      "Enter 1st number : abc\n",
      "Enter 2nd number : 5\n",
      "Type Error\n"
     ]
    }
   ],
   "source": [
    "n1=input(\"Enter 1st number : \")\n",
    "n2 = int(input(\"Enter 2nd number : \"))\n",
    "try:\n",
    "    add = n1+n2\n",
    "    print(f\"Addition = {add}\")\n",
    "except TypeError:\n",
    "    print(\"Type Error\")"
   ]
  },
  {
   "cell_type": "markdown",
   "metadata": {},
   "source": [
    "### 05) WAP to demonstrate valueError and indexError with example."
   ]
  },
  {
   "cell_type": "code",
   "execution_count": 8,
   "metadata": {},
   "outputs": [
    {
     "name": "stdout",
     "output_type": "stream",
     "text": [
      "Enter a number : 1\n",
      "Enter a number : 2\n",
      "Enter a number : 3\n",
      "Enter a number : 4\n",
      "Enter a number : 5\n",
      "Index Error\n"
     ]
    }
   ],
   "source": [
    "li=[]\n",
    "try:\n",
    "    try:\n",
    "        for i in range(5):\n",
    "            num=int(input(\"Enter a number : \"))\n",
    "            li.append(num)\n",
    "    except ValueError:\n",
    "        print(\"Value Error\")\n",
    "    else:   \n",
    "        print(li[len(li)])\n",
    "except IndexError:\n",
    "    print(\"Index Error\")\n"
   ]
  },
  {
   "cell_type": "markdown",
   "metadata": {},
   "source": [
    "### 06) WAP to domonstrate else  and finally block."
   ]
  },
  {
   "cell_type": "code",
   "execution_count": 6,
   "metadata": {},
   "outputs": [
    {
     "name": "stdout",
     "output_type": "stream",
     "text": [
      "Enter 1st number : 5\n",
      "Enter 2nd number : 2\n",
      "Division = 2.5\n",
      "Division Successful\n"
     ]
    }
   ],
   "source": [
    "a=int(input(\"Enter 1st number : \"))\n",
    "b=int(input(\"Enter 2nd number : \"))\n",
    "try:\n",
    "    print(f\"Division = {a/b}\")\n",
    "except ZeroDivisionError as e:\n",
    "    print(\"Zero Division Error\")\n",
    "    print(e.args[0])\n",
    "else:\n",
    "    print(\"Division Successful\")"
   ]
  },
  {
   "cell_type": "markdown",
   "metadata": {},
   "source": [
    "### 07) Create a short program that prompts the user for a list of grades separated by commas. Split the string into individual grades and use a list comprehension to convert each string to an integer. You should use a try statement to inform the user when the values they entered cannot be converted."
   ]
  },
  {
   "cell_type": "code",
   "execution_count": 26,
   "metadata": {},
   "outputs": [
    {
     "name": "stdout",
     "output_type": "stream",
     "text": [
      "Enter comma separated Grades : a,1,2\n",
      "Value Error\n"
     ]
    }
   ],
   "source": [
    "str1 = input(\"Enter comma separated Grades : \")\n",
    "li1 = str1.split(\",\")\n",
    "try:\n",
    "    li2 = list(i for i in li1 if int(i)==0 or int(i))\n",
    "    print(li2)\n",
    "except ValueError:\n",
    "    print(\"Value Error\")\n"
   ]
  },
  {
   "cell_type": "markdown",
   "metadata": {},
   "source": []
  },
  {
   "cell_type": "markdown",
   "metadata": {},
   "source": [
    "# B"
   ]
  },
  {
   "cell_type": "markdown",
   "metadata": {},
   "source": [
    "### 01) WAP to Raising User Generated Exception."
   ]
  },
  {
   "cell_type": "code",
   "execution_count": 32,
   "metadata": {},
   "outputs": [
    {
     "name": "stdout",
     "output_type": "stream",
     "text": [
      "Enter 1st number : 5\n",
      "Enter 2nd number : 0\n",
      "division by zero\n"
     ]
    }
   ],
   "source": [
    "a1 = int(input(\"Enter 1st number : \"))\n",
    "b1 = int(input(\"Enter 2nd number : \"))\n",
    "try:\n",
    "    if(b==0):\n",
    "        raise ZeroDivisionError\n",
    "    else:\n",
    "        print(f\"Division = {a1/b1}\")\n",
    "except ZeroDivisionError as e:\n",
    "    print(e.args[0].__str__())\n",
    "    "
   ]
  },
  {
   "cell_type": "markdown",
   "metadata": {},
   "source": [
    "### 02) WAP to raise your custom Exception."
   ]
  },
  {
   "cell_type": "code",
   "execution_count": 31,
   "metadata": {},
   "outputs": [
    {
     "name": "stdout",
     "output_type": "stream",
     "text": [
      "Enter Age : -10\n",
      "Age is negative\n"
     ]
    }
   ],
   "source": [
    "class AgeValueError(Exception):\n",
    "    pass\n",
    "try:\n",
    "    age=int(input(\"Enter Age : \"))\n",
    "    if(age<0):\n",
    "        raise AgeValueError(\"Age is negative\")\n",
    "    else:\n",
    "        print(f\"Age = {age}\")\n",
    "except AgeValueError as e:\n",
    "    print(e.args[0])"
   ]
  }
 ],
 "metadata": {
  "kernelspec": {
   "display_name": "Python 3 (ipykernel)",
   "language": "python",
   "name": "python3"
  },
  "language_info": {
   "codemirror_mode": {
    "name": "ipython",
    "version": 3
   },
   "file_extension": ".py",
   "mimetype": "text/x-python",
   "name": "python",
   "nbconvert_exporter": "python",
   "pygments_lexer": "ipython3",
   "version": "3.9.12"
  }
 },
 "nbformat": 4,
 "nbformat_minor": 4
}
