{
 "cells": [
  {
   "cell_type": "markdown",
   "metadata": {},
   "source": [
    "<a href='https://www.darshan.ac.in/'> <img src='https://www.darshan.ac.in/Content/media/DU_Logo.svg' width=\"250\" height=\"300\"/></a>\n",
    "<pre>\n",
    "<center><b><h1>Python Programming - 2101CS405</b></center>\n",
    "<center><b><h1>Lab - 1</b></center>    \n",
    "<pre>"
   ]
  },
  {
   "cell_type": "markdown",
   "metadata": {},
   "source": [
    "### 01) WAP to print “Hello World”"
   ]
  },
  {
   "cell_type": "code",
   "execution_count": 1,
   "metadata": {},
   "outputs": [
    {
     "name": "stdout",
     "output_type": "stream",
     "text": [
      "Hello World\n"
     ]
    }
   ],
   "source": [
    "print(\"Hello World\")"
   ]
  },
  {
   "cell_type": "markdown",
   "metadata": {},
   "source": [
    "### 02) WAP to print your address i) using single print ii) using multiple print"
   ]
  },
  {
   "cell_type": "code",
   "execution_count": 3,
   "metadata": {},
   "outputs": [
    {
     "name": "stdout",
     "output_type": "stream",
     "text": [
      "120 vyse street\n",
      "325 East Avense\n",
      "Washington, DC 000000\n",
      "------------------\n",
      "120 vyse street\n",
      "325 East Avense\n",
      "Washington, DC 000000\n"
     ]
    }
   ],
   "source": [
    "# (i) using single print\n",
    "print('''120 vyse street\n",
    "325 East Avense\n",
    "Washington, DC 000000''')\n",
    "\n",
    "print(\"------------------\")\n",
    "# (ii) using multiple print\n",
    "\n",
    "print(\"120 vyse street\")\n",
    "print(\"325 East Avense\")\n",
    "print(\"Washington, DC 000000\")\n",
    "    "
   ]
  },
  {
   "cell_type": "markdown",
   "metadata": {},
   "source": [
    "### 03) WAP to print addition of 2 numbers (without input function)"
   ]
  },
  {
   "cell_type": "code",
   "execution_count": 3,
   "metadata": {},
   "outputs": [
    {
     "name": "stdout",
     "output_type": "stream",
     "text": [
      "Addition =  30\n"
     ]
    }
   ],
   "source": [
    "a=10\n",
    "b=20\n",
    "print(\"Addition = \",a+b)"
   ]
  },
  {
   "cell_type": "markdown",
   "metadata": {},
   "source": [
    "### 04) WAP to calculate and print average of 2 numbers (without input function)"
   ]
  },
  {
   "cell_type": "code",
   "execution_count": 4,
   "metadata": {},
   "outputs": [
    {
     "name": "stdout",
     "output_type": "stream",
     "text": [
      "Average = 15.0\n"
     ]
    }
   ],
   "source": [
    "a=10\n",
    "b=20\n",
    "print(\"Average =\",(a+b)/2)"
   ]
  },
  {
   "cell_type": "markdown",
   "metadata": {},
   "source": [
    "### 05) WAP to add two number entered by user."
   ]
  },
  {
   "cell_type": "code",
   "execution_count": 5,
   "metadata": {},
   "outputs": [
    {
     "name": "stdout",
     "output_type": "stream",
     "text": [
      "Enter 1st number : 5\n",
      "Enter 2nd number : 6\n",
      "Addition = 11\n"
     ]
    }
   ],
   "source": [
    "a = int(input(\"Enter 1st number : \"))\n",
    "b = int(input(\"Enter 2nd number : \"))\n",
    "print(\"Addition =\",a+b)"
   ]
  },
  {
   "cell_type": "markdown",
   "metadata": {},
   "source": [
    "### 06) WAP to calculate simple interest."
   ]
  },
  {
   "cell_type": "code",
   "execution_count": 6,
   "metadata": {},
   "outputs": [
    {
     "name": "stdout",
     "output_type": "stream",
     "text": [
      "Enter P : 1000\n",
      "Enter R : 1\n",
      "Enter N : 10\n",
      "I = 100.0\n"
     ]
    }
   ],
   "source": [
    "p = int(input(\"Enter P : \"))\n",
    "r = int(input(\"Enter R : \"))\n",
    "n = int(input(\"Enter N : \"))\n",
    "\n",
    "print(\"I =\",(p*r*n)/100)"
   ]
  },
  {
   "cell_type": "markdown",
   "metadata": {},
   "source": [
    "### 07) WAP Calculate Area and Circumfrence of Circle"
   ]
  },
  {
   "cell_type": "code",
   "execution_count": 7,
   "metadata": {},
   "outputs": [
    {
     "name": "stdout",
     "output_type": "stream",
     "text": [
      "Enter r : 5\n",
      "Area = 78.5\n",
      "Circumfrence = 31.400000000000002\n"
     ]
    }
   ],
   "source": [
    "r = int(input(\"Enter r : \"))\n",
    "\n",
    "print(\"Area =\",(3.14*r*r))\n",
    "print(\"Circumfrence =\",(2*3.14*r))"
   ]
  },
  {
   "cell_type": "markdown",
   "metadata": {},
   "source": [
    "### 08) WAP to print Multiplication table of given number without using loops."
   ]
  },
  {
   "cell_type": "code",
   "execution_count": 8,
   "metadata": {},
   "outputs": [
    {
     "name": "stdout",
     "output_type": "stream",
     "text": [
      "Enter n : 5\n",
      "Multiplication Table\n",
      "--------------------\n",
      "5 * 1 = 5\n",
      "5 * 2 = 10\n",
      "5 * 3 = 15\n",
      "5 * 4 = 20\n",
      "5 * 5 = 25\n",
      "5 * 6 = 30\n",
      "5 * 7 = 35\n",
      "5 * 8 = 40\n",
      "5 * 9 = 45\n",
      "5 * 10 = 50\n"
     ]
    }
   ],
   "source": [
    "n = int(input(\"Enter n : \"))\n",
    "\n",
    "print(\"Multiplication Table\")\n",
    "print(\"--------------------\")\n",
    "print(n,\"* 1 =\",n*1)\n",
    "print(n,\"* 2 =\",n*2)\n",
    "print(n,\"* 3 =\",n*3)\n",
    "print(n,\"* 4 =\",n*4)\n",
    "print(n,\"* 5 =\",n*5)\n",
    "print(n,\"* 6 =\",n*6)\n",
    "print(n,\"* 7 =\",n*7)\n",
    "print(n,\"* 8 =\",n*8)\n",
    "print(n,\"* 9 =\",n*9)\n",
    "print(n,\"* 10 =\",n*10)"
   ]
  },
  {
   "cell_type": "markdown",
   "metadata": {},
   "source": [
    "### 09) WAP to calculate Area of Triangle (hint: a = h * b * 0.5)"
   ]
  },
  {
   "cell_type": "code",
   "execution_count": 9,
   "metadata": {},
   "outputs": [
    {
     "name": "stdout",
     "output_type": "stream",
     "text": [
      "Enter h : 2\n",
      "Enter b : 5\n",
      "Area = 5.0\n"
     ]
    }
   ],
   "source": [
    "h = int(input(\"Enter h : \"))\n",
    "b = int(input(\"Enter b : \"))\n",
    "\n",
    "print(\"Area =\",(0.5*h*b))"
   ]
  },
  {
   "cell_type": "markdown",
   "metadata": {},
   "source": [
    "### 10) WAP to convert degree to Fahrenheit and vice versa."
   ]
  },
  {
   "cell_type": "code",
   "execution_count": 10,
   "metadata": {},
   "outputs": [
    {
     "name": "stdout",
     "output_type": "stream",
     "text": [
      "Enter Degeree : -40\n",
      "-40°C = -40.0°F\n",
      "Enter Fahrenheit : -40\n",
      "-40°F = -40.0°C\n"
     ]
    }
   ],
   "source": [
    "# (i) Degree to Fahrenheit\n",
    "d = int(input(\"Enter Degeree : \"))\n",
    "f = (d*(9/5))+32\n",
    "print(f\"{d}°C = {f}°F\")\n",
    "\n",
    "# (ii) Fahrenheit to Degree\n",
    "f = int(input(\"Enter Fahrenheit : \"))\n",
    "d = (f-32)*(5/9)\n",
    "print(f\"{f}°F = {d}°C\")\n",
    "    "
   ]
  },
  {
   "cell_type": "markdown",
   "metadata": {},
   "source": [
    "### 11) WAP to calculate total marks and Percentage."
   ]
  },
  {
   "cell_type": "code",
   "execution_count": 13,
   "metadata": {},
   "outputs": [
    {
     "name": "stdout",
     "output_type": "stream",
     "text": [
      "Enter marks of 1st Subject : 98\n",
      "Enter marks of 2nd Subject : 97\n",
      "Enter marks of 3rd Subject : 99\n",
      "Total marks = 294\n",
      "Percentage = 98.0 %\n"
     ]
    }
   ],
   "source": [
    "m1 = int(input(\"Enter marks of 1st Subject : \"))\n",
    "m2 = int(input(\"Enter marks of 2nd Subject : \"))\n",
    "m3 = int(input(\"Enter marks of 3rd Subject : \"))\n",
    "\n",
    "print(\"Total marks =\",m1+m2+m3)\n",
    "print(\"Percentage =\",(m1+m2+m3)/3,\"%\")"
   ]
  },
  {
   "cell_type": "markdown",
   "metadata": {},
   "source": [
    "### 12) Compute distance between two points taking input from the user (Pythagorean Theorem)."
   ]
  },
  {
   "cell_type": "code",
   "execution_count": 18,
   "metadata": {},
   "outputs": [
    {
     "name": "stdout",
     "output_type": "stream",
     "text": [
      "Enter x1 : 5\n",
      "Enter y1 : 5\n",
      "Enter x2 : 6\n",
      "Enter y2 : 6\n",
      "Distance = 1.4142135623730951\n"
     ]
    }
   ],
   "source": [
    "import math\n",
    "\n",
    "x1 = int(input(\"Enter x1 : \"))\n",
    "y1 = int(input(\"Enter y1 : \"))\n",
    "x2 = int(input(\"Enter x2 : \"))\n",
    "y2 = int(input(\"Enter y2 : \"))\n",
    "\n",
    "d = math.sqrt(math.pow((x2-x1),2)+math.pow((y2-y1),2))\n",
    "print(\"Distance =\",d)"
   ]
  },
  {
   "cell_type": "markdown",
   "metadata": {},
   "source": [
    "### 13) WAP to convert seconds into hours, minutes & seconds and print in HH:MM:SS\n",
    "[e.g. 10000 seconds mean 2:46:40 (2 Hours, 46 Minutes, 40Seconds)]"
   ]
  },
  {
   "cell_type": "code",
   "execution_count": 20,
   "metadata": {},
   "outputs": [
    {
     "name": "stdout",
     "output_type": "stream",
     "text": [
      "Enter second : 10000\n",
      "2:46:40\n"
     ]
    }
   ],
   "source": [
    "s = int(input(\"Enter second : \"))\n",
    "m = int(s/60)\n",
    "h = int(m/60)\n",
    "s = s%60\n",
    "m= m%60\n",
    "\n",
    "print(f\"{h}:{m}:{s}\")\n"
   ]
  },
  {
   "cell_type": "markdown",
   "metadata": {},
   "source": [
    "### 14) WAP to enter distance into kilometer and convert it into meter, feet,inches, and centimeter"
   ]
  },
  {
   "cell_type": "code",
   "execution_count": 23,
   "metadata": {},
   "outputs": [
    {
     "name": "stdout",
     "output_type": "stream",
     "text": [
      "Enter distance into kilometer : 1\n",
      "1 km = 1000m\n",
      "1 km = 3281ft\n",
      "1 km = 39370inch\n",
      "1 km = 100000cm\n"
     ]
    }
   ],
   "source": [
    "km = int(input(\"Enter distance into kilometer : \"))\n",
    "meter = km*1000\n",
    "feet = km*3281\n",
    "inch = km*39370\n",
    "cm = km*100000\n",
    "\n",
    "print(f\"{km} km = {meter}m\")\n",
    "print(f\"{km} km = {feet}ft\")\n",
    "print(f\"{km} km = {inch}inch\")\n",
    "print(f\"{km} km = {cm}cm\")\n"
   ]
  }
 ],
 "metadata": {
  "kernelspec": {
   "display_name": "Python 3 (ipykernel)",
   "language": "python",
   "name": "python3"
  },
  "language_info": {
   "codemirror_mode": {
    "name": "ipython",
    "version": 3
   },
   "file_extension": ".py",
   "mimetype": "text/x-python",
   "name": "python",
   "nbconvert_exporter": "python",
   "pygments_lexer": "ipython3",
   "version": "3.9.12"
  }
 },
 "nbformat": 4,
 "nbformat_minor": 4
}
