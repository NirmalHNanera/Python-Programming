{
 "cells": [
  {
   "cell_type": "markdown",
   "id": "636f0730",
   "metadata": {},
   "source": [
    "# Random Module"
   ]
  },
  {
   "cell_type": "code",
   "execution_count": 2,
   "id": "baaf58c5",
   "metadata": {},
   "outputs": [],
   "source": [
    "import random"
   ]
  },
  {
   "cell_type": "code",
   "execution_count": 3,
   "id": "82834744",
   "metadata": {},
   "outputs": [
    {
     "name": "stdout",
     "output_type": "stream",
     "text": [
      "0.9162315679079491\n"
     ]
    }
   ],
   "source": [
    "print(random.random())"
   ]
  },
  {
   "cell_type": "code",
   "execution_count": 4,
   "id": "82ab0305",
   "metadata": {},
   "outputs": [
    {
     "name": "stdout",
     "output_type": "stream",
     "text": [
      "0.13436424411240122\n"
     ]
    }
   ],
   "source": [
    "random.seed(1)\n",
    "print(random.random())"
   ]
  },
  {
   "cell_type": "code",
   "execution_count": 5,
   "id": "a2c131fb",
   "metadata": {},
   "outputs": [
    {
     "name": "stdout",
     "output_type": "stream",
     "text": [
      "98\n"
     ]
    }
   ],
   "source": [
    "print(random.randint(1,100))"
   ]
  },
  {
   "cell_type": "code",
   "execution_count": 6,
   "id": "fd30079c",
   "metadata": {},
   "outputs": [
    {
     "name": "stdout",
     "output_type": "stream",
     "text": [
      "0\n"
     ]
    }
   ],
   "source": [
    "print(random.randrange(0,30,5))"
   ]
  },
  {
   "cell_type": "code",
   "execution_count": 7,
   "id": "c6aacca4",
   "metadata": {},
   "outputs": [
    {
     "name": "stdout",
     "output_type": "stream",
     "text": [
      "20\n"
     ]
    }
   ],
   "source": [
    "l1=[10,20,30]\n",
    "print(random.choice(l1))"
   ]
  },
  {
   "cell_type": "code",
   "execution_count": 8,
   "id": "b968ecbb",
   "metadata": {},
   "outputs": [
    {
     "data": {
      "text/plain": [
       "[30, 20, 10]"
      ]
     },
     "execution_count": 8,
     "metadata": {},
     "output_type": "execute_result"
    }
   ],
   "source": [
    "random.shuffle(l1)\n",
    "l1"
   ]
  },
  {
   "cell_type": "code",
   "execution_count": 9,
   "id": "dfd61b5a",
   "metadata": {},
   "outputs": [
    {
     "name": "stdout",
     "output_type": "stream",
     "text": [
      "8.804812224562877\n"
     ]
    }
   ],
   "source": [
    "print(random.uniform(5,10))"
   ]
  },
  {
   "cell_type": "markdown",
   "id": "4d024318",
   "metadata": {},
   "source": [
    "# Math Module"
   ]
  },
  {
   "cell_type": "code",
   "execution_count": 10,
   "id": "0f02f543",
   "metadata": {},
   "outputs": [
    {
     "name": "stdout",
     "output_type": "stream",
     "text": [
      "e =  2.718281828459045\n",
      "pi =  3.141592653589793\n",
      "tau =  6.283185307179586\n",
      "ceil =  6\n",
      "floor =  5\n",
      "factorial =  120\n",
      "gcd =  10\n",
      "lcm =  30\n",
      "fabs =  50.0\n",
      "exp =  2.718281828459045\n",
      "power =  32.0\n",
      "log =  2.0\n",
      "log =  0.3010299956639812\n",
      "sqrt =  5.0\n",
      "sin =  1.0  cos =  0.7071067811865476  tan =  -1.2246467991473532e-16\n",
      "radian =  1.5707963267948966\n",
      "degree =  90.0\n",
      "gamma =  24.0\n"
     ]
    }
   ],
   "source": [
    "import math\n",
    "print(\"e = \",math.e)\n",
    "print(\"pi = \",math.pi)\n",
    "print(\"tau = \",math.tau)\n",
    "print(\"ceil = \",math.ceil(5.6))\n",
    "print(\"floor = \",math.floor(5.6))\n",
    "print(\"factorial = \",math.factorial(5))\n",
    "print(\"gcd = \",math.gcd(10,30))\n",
    "print(\"lcm = \",math.lcm(10,30))\n",
    "print(\"fabs = \",math.fabs(-50))\n",
    "print(\"exp = \",math.exp(1))\n",
    "print(\"power = \",math.pow(2,5))\n",
    "print(\"log = \",math.log2(4))\n",
    "print(\"log = \",math.log10(2))\n",
    "print(\"sqrt = \",math.sqrt(25))\n",
    "print(\"sin = \",math.sin(math.pi/2),\" cos = \",math.cos(math.pi/4),\" tan = \",math.tan(math.pi))\n",
    "print(\"radian = \",math.radians(90))\n",
    "print(\"degree = \",math.degrees(1.5707963267948966))\n",
    "print(\"gamma = \",math.gamma(5))"
   ]
  },
  {
   "cell_type": "markdown",
   "id": "7566cf4f",
   "metadata": {},
   "source": [
    "# Date-Time Module"
   ]
  },
  {
   "cell_type": "code",
   "execution_count": 11,
   "id": "8706daed",
   "metadata": {},
   "outputs": [
    {
     "name": "stdout",
     "output_type": "stream",
     "text": [
      "2023-02-07\n"
     ]
    }
   ],
   "source": [
    "import datetime\n",
    "d = datetime.date(2023,2,7)\n",
    "print(d)"
   ]
  },
  {
   "cell_type": "code",
   "execution_count": 12,
   "id": "f774e3f9",
   "metadata": {},
   "outputs": [
    {
     "name": "stdout",
     "output_type": "stream",
     "text": [
      "2023-02-15\n",
      "2023\n",
      "2\n",
      "15\n"
     ]
    }
   ],
   "source": [
    "t = datetime.date.today()\n",
    "print(t)\n",
    "print(t.year)\n",
    "print(t.month)\n",
    "print(t.day)"
   ]
  },
  {
   "cell_type": "code",
   "execution_count": 13,
   "id": "c6fed1bc",
   "metadata": {},
   "outputs": [
    {
     "name": "stdout",
     "output_type": "stream",
     "text": [
      "10:30:05.000001\n",
      "10\n",
      "30\n",
      "5\n",
      "1\n"
     ]
    }
   ],
   "source": [
    "t = datetime.time(10,30,5,1)\n",
    "print(t)\n",
    "print(t.hour)\n",
    "print(t.minute)\n",
    "print(t.second)\n",
    "print(t.microsecond)"
   ]
  },
  {
   "cell_type": "code",
   "execution_count": 14,
   "id": "7c20a984",
   "metadata": {},
   "outputs": [
    {
     "name": "stdout",
     "output_type": "stream",
     "text": [
      "2023-02-01 10:30:05.000001\n"
     ]
    }
   ],
   "source": [
    "dt = datetime.datetime(2023,2,1,10,30,5,1)\n",
    "print(dt)"
   ]
  },
  {
   "cell_type": "code",
   "execution_count": 15,
   "id": "b93c7dea",
   "metadata": {},
   "outputs": [
    {
     "name": "stdout",
     "output_type": "stream",
     "text": [
      "2023-02-15 12:35:04.777376\n"
     ]
    }
   ],
   "source": [
    "x = datetime.datetime.now()\n",
    "print(x)"
   ]
  },
  {
   "cell_type": "code",
   "execution_count": 16,
   "id": "8b826f97",
   "metadata": {},
   "outputs": [
    {
     "name": "stdout",
     "output_type": "stream",
     "text": [
      "2023-02-17 12:35:04.777376\n"
     ]
    }
   ],
   "source": [
    "y = x+datetime.timedelta(days=2)\n",
    "print(y)"
   ]
  },
  {
   "cell_type": "code",
   "execution_count": 17,
   "id": "08b78017",
   "metadata": {},
   "outputs": [
    {
     "name": "stdout",
     "output_type": "stream",
     "text": [
      "Wednesday\n",
      "Wed\n",
      "35\n",
      "02\n",
      "2023\n",
      "23\n"
     ]
    }
   ],
   "source": [
    "print(x.strftime(\"%A\"))\n",
    "print(x.strftime(\"%a\"))\n",
    "print(x.strftime(\"%M\"))\n",
    "print(x.strftime(\"%m\"))\n",
    "print(x.strftime(\"%Y\"))\n",
    "print(x.strftime(\"%y\"))"
   ]
  }
 ],
 "metadata": {
  "kernelspec": {
   "display_name": "Python 3 (ipykernel)",
   "language": "python",
   "name": "python3"
  },
  "language_info": {
   "codemirror_mode": {
    "name": "ipython",
    "version": 3
   },
   "file_extension": ".py",
   "mimetype": "text/x-python",
   "name": "python",
   "nbconvert_exporter": "python",
   "pygments_lexer": "ipython3",
   "version": "3.9.13"
  }
 },
 "nbformat": 4,
 "nbformat_minor": 5
}
