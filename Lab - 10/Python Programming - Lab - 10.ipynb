{
 "cells": [
  {
   "cell_type": "markdown",
   "metadata": {},
   "source": [
    "<a href='https://www.darshan.ac.in/'> <img src='https://www.darshan.ac.in/Content/media/DU_Logo.svg' width=\"250\" height=\"300\"/></a>\n",
    "<pre>\n",
    "<center><b><h1>Python Programming - 2101CS405</b></center>\n",
    "<center><b><h1>Lab - 10</b></center>    \n",
    "<pre>"
   ]
  },
  {
   "cell_type": "markdown",
   "metadata": {},
   "source": [
    "# Modules"
   ]
  },
  {
   "cell_type": "markdown",
   "metadata": {},
   "source": [
    "# A"
   ]
  },
  {
   "cell_type": "markdown",
   "metadata": {},
   "source": [
    "### 01) WAP to create Calculator module which defines functions like add, sub,mul and div. create another file that uses the Calculator module."
   ]
  },
  {
   "cell_type": "code",
   "execution_count": 1,
   "metadata": {},
   "outputs": [
    {
     "name": "stdout",
     "output_type": "stream",
     "text": [
      "15\n",
      "-5\n",
      "50\n",
      "0.5\n"
     ]
    }
   ],
   "source": [
    "import calculator2\n",
    "calculator2.add(5,10)\n",
    "calculator2.sub(5,10)\n",
    "calculator2.mul(5,10)\n",
    "calculator2.div(5,10)"
   ]
  },
  {
   "cell_type": "markdown",
   "metadata": {},
   "source": [
    "  ### 02) WAP to Pick a random character from a given String."
   ]
  },
  {
   "cell_type": "code",
   "execution_count": 3,
   "metadata": {},
   "outputs": [
    {
     "name": "stdout",
     "output_type": "stream",
     "text": [
      "e\n"
     ]
    }
   ],
   "source": [
    "import random\n",
    "str1 = \"Darshan University\"\n",
    "ans2 = random.choice(str1)\n",
    "print(ans2)"
   ]
  },
  {
   "cell_type": "markdown",
   "metadata": {},
   "source": [
    "### 03) WAP to Pick a random element from a given list."
   ]
  },
  {
   "cell_type": "code",
   "execution_count": 5,
   "metadata": {},
   "outputs": [
    {
     "name": "stdout",
     "output_type": "stream",
     "text": [
      "40\n"
     ]
    }
   ],
   "source": [
    "li = [10,20,30,40]\n",
    "ans3 = random.choice(li)\n",
    "print(ans3)"
   ]
  },
  {
   "cell_type": "markdown",
   "metadata": {},
   "source": [
    "### 04) WAP to demonstrate the use of the math module."
   ]
  },
  {
   "cell_type": "code",
   "execution_count": 6,
   "metadata": {},
   "outputs": [
    {
     "name": "stdout",
     "output_type": "stream",
     "text": [
      "e =  2.718281828459045\n",
      "pi =  3.141592653589793\n",
      "tau =  6.283185307179586\n",
      "ceil =  6\n",
      "floor =  5\n",
      "factorial =  120\n",
      "gcd =  10\n",
      "lcm =  30\n",
      "fabs =  50.0\n",
      "exp =  2.718281828459045\n",
      "power =  32.0\n",
      "log =  2.0\n",
      "log =  0.3010299956639812\n",
      "sqrt =  5.0\n",
      "sin =  1.0  cos =  0.7071067811865476  tan =  -1.2246467991473532e-16\n",
      "radian =  1.5707963267948966\n",
      "degree =  90.0\n",
      "gamma =  24.0\n"
     ]
    }
   ],
   "source": [
    "import math\n",
    "print(\"e = \",math.e)\n",
    "print(\"pi = \",math.pi)\n",
    "print(\"tau = \",math.tau)\n",
    "print(\"ceil = \",math.ceil(5.6))\n",
    "print(\"floor = \",math.floor(5.6))\n",
    "print(\"factorial = \",math.factorial(5))\n",
    "print(\"gcd = \",math.gcd(10,30))\n",
    "print(\"lcm = \",math.lcm(10,30))\n",
    "print(\"fabs = \",math.fabs(-50))\n",
    "print(\"exp = \",math.exp(1))\n",
    "print(\"power = \",math.pow(2,5))\n",
    "print(\"log = \",math.log2(4))\n",
    "print(\"log = \",math.log10(2))\n",
    "print(\"sqrt = \",math.sqrt(25))\n",
    "print(\"sin = \",math.sin(math.pi/2),\" cos = \",math.cos(math.pi/4),\" tan = \",math.tan(math.pi))\n",
    "print(\"radian = \",math.radians(90))\n",
    "print(\"degree = \",math.degrees(1.5707963267948966))\n",
    "print(\"gamma = \",math.gamma(5))"
   ]
  },
  {
   "cell_type": "markdown",
   "metadata": {},
   "source": [
    "### 05) WAP to demonstrate the use of date time module."
   ]
  },
  {
   "cell_type": "code",
   "execution_count": 7,
   "metadata": {},
   "outputs": [
    {
     "name": "stdout",
     "output_type": "stream",
     "text": [
      "2023-02-07\n",
      "2023-02-15\n",
      "2023\n",
      "2\n",
      "15\n",
      "10:30:05.000001\n",
      "10\n",
      "30\n",
      "5\n",
      "1\n",
      "2023-02-01 10:30:05.000001\n",
      "2023-02-15 12:36:36.744856\n",
      "2023-02-17 12:36:36.744856\n",
      "Wednesday\n",
      "Wed\n",
      "36\n",
      "02\n",
      "2023\n",
      "23\n"
     ]
    }
   ],
   "source": [
    "import datetime\n",
    "d = datetime.date(2023,2,7)\n",
    "print(d)\n",
    "t = datetime.date.today()\n",
    "print(t)\n",
    "print(t.year)\n",
    "print(t.month)\n",
    "print(t.day)\n",
    "t = datetime.time(10,30,5,1)\n",
    "print(t)\n",
    "print(t.hour)\n",
    "print(t.minute)\n",
    "print(t.second)\n",
    "print(t.microsecond)\n",
    "dt = datetime.datetime(2023,2,1,10,30,5,1)\n",
    "print(dt)\n",
    "x = datetime.datetime.now()\n",
    "print(x)\n",
    "y = x+datetime.timedelta(days=2)\n",
    "print(y)\n",
    "print(x.strftime(\"%A\"))\n",
    "print(x.strftime(\"%a\"))\n",
    "print(x.strftime(\"%M\"))\n",
    "print(x.strftime(\"%m\"))\n",
    "print(x.strftime(\"%Y\"))\n",
    "print(x.strftime(\"%y\"))"
   ]
  },
  {
   "cell_type": "markdown",
   "metadata": {},
   "source": [
    "# B"
   ]
  },
  {
   "cell_type": "markdown",
   "metadata": {},
   "source": [
    "### 01) WAP to Roll dice in such a way that every time you get the same number."
   ]
  },
  {
   "cell_type": "code",
   "execution_count": 9,
   "metadata": {},
   "outputs": [
    {
     "name": "stdout",
     "output_type": "stream",
     "text": [
      "2\n"
     ]
    }
   ],
   "source": [
    "li = [1,2,3,4,5,6]\n",
    "random.seed(1)\n",
    "ans11 = random.choice(li)\n",
    "print(ans11)"
   ]
  },
  {
   "cell_type": "markdown",
   "metadata": {},
   "source": [
    "### 02) WAP to generate 3 random integers between 100 and 999 which is divisible by 5."
   ]
  },
  {
   "cell_type": "code",
   "execution_count": 10,
   "metadata": {},
   "outputs": [
    {
     "name": "stdout",
     "output_type": "stream",
     "text": [
      "825\n",
      "180\n",
      "425\n"
     ]
    }
   ],
   "source": [
    "for i in range(3):\n",
    "    print(random.randrange(100,999,5))"
   ]
  },
  {
   "cell_type": "markdown",
   "metadata": {},
   "source": [
    "### 03) WAP to generate 100 random lottery tickets and pick two lucky tickets from it as a winner."
   ]
  },
  {
   "cell_type": "code",
   "execution_count": 12,
   "metadata": {},
   "outputs": [
    {
     "name": "stdout",
     "output_type": "stream",
     "text": [
      "[515, 562]\n"
     ]
    }
   ],
   "source": [
    "li = []\n",
    "for i in range(100):\n",
    "    li.append(random.randint(1,1000))\n",
    "print(random.sample(li,2))"
   ]
  },
  {
   "cell_type": "markdown",
   "metadata": {},
   "source": [
    "### 04) WAP to print current date and time in Python."
   ]
  },
  {
   "cell_type": "code",
   "execution_count": 13,
   "metadata": {},
   "outputs": [
    {
     "name": "stdout",
     "output_type": "stream",
     "text": [
      "2023-02-15 12:37:04.455795\n"
     ]
    }
   ],
   "source": [
    "dt1 = datetime.datetime.now()\n",
    "print(dt1)"
   ]
  },
  {
   "cell_type": "markdown",
   "metadata": {},
   "source": [
    "### 05) Subtract a week (7 \n",
    "days) from a given date in Python."
   ]
  },
  {
   "cell_type": "code",
   "execution_count": 14,
   "metadata": {},
   "outputs": [
    {
     "name": "stdout",
     "output_type": "stream",
     "text": [
      "2023-02-08 12:37:04.455795\n"
     ]
    }
   ],
   "source": [
    "dt2 = dt1 - datetime.timedelta(weeks=1)\n",
    "print(dt2)"
   ]
  },
  {
   "cell_type": "markdown",
   "metadata": {},
   "source": [
    "### 06) WAP to Calculate number of days between two given dates."
   ]
  },
  {
   "cell_type": "code",
   "execution_count": 15,
   "metadata": {},
   "outputs": [
    {
     "name": "stdout",
     "output_type": "stream",
     "text": [
      "7\n"
     ]
    }
   ],
   "source": [
    "print(dt1.day - dt2.day)"
   ]
  },
  {
   "cell_type": "markdown",
   "metadata": {},
   "source": [
    "### 07) WAP to Find the day of the week of a given date."
   ]
  },
  {
   "cell_type": "code",
   "execution_count": 16,
   "metadata": {},
   "outputs": [
    {
     "name": "stdout",
     "output_type": "stream",
     "text": [
      "Wednesday\n",
      "Wed\n"
     ]
    }
   ],
   "source": [
    "print(dt1.strftime(\"%A\"))\n",
    "print(dt1.strftime(\"%a\"))"
   ]
  }
 ],
 "metadata": {
  "kernelspec": {
   "display_name": "Python 3 (ipykernel)",
   "language": "python",
   "name": "python3"
  },
  "language_info": {
   "codemirror_mode": {
    "name": "ipython",
    "version": 3
   },
   "file_extension": ".py",
   "mimetype": "text/x-python",
   "name": "python",
   "nbconvert_exporter": "python",
   "pygments_lexer": "ipython3",
   "version": "3.9.13"
  }
 },
 "nbformat": 4,
 "nbformat_minor": 4
}
