{
 "cells": [
  {
   "cell_type": "markdown",
   "metadata": {},
   "source": [
    "\n",
    "<a href='https://www.darshan.ac.in/'> <img src='https://www.darshan.ac.in/Content/media/DU_Logo.svg' width=\"250\" height=\"300\"/></a>\n",
    "<pre>\n",
    "<center><b><h1>Python Programming - 2101CS405</b></center>\n",
    "<center><b><h1>Lab - 4</b></center>    \n",
    "<pre>"
   ]
  },
  {
   "cell_type": "markdown",
   "metadata": {},
   "source": [
    "# String"
   ]
  },
  {
   "cell_type": "markdown",
   "metadata": {},
   "source": [
    "### 01) WAP to check given string is palindrome or not."
   ]
  },
  {
   "cell_type": "code",
   "execution_count": 27,
   "metadata": {},
   "outputs": [
    {
     "name": "stdout",
     "output_type": "stream",
     "text": [
      "Enter a string : aba\n",
      "aba is Palindrome string\n"
     ]
    }
   ],
   "source": [
    "str1 = input(\"Enter a string : \")\n",
    "if(str1[::-1]==str1):\n",
    "    print(f\"{str1} is Palindrome string\")\n",
    "else:\n",
    "    print(f\"{str1} is not Palindrome string\")"
   ]
  },
  {
   "cell_type": "markdown",
   "metadata": {},
   "source": [
    "### 02) WAP to reverse the words in given string."
   ]
  },
  {
   "cell_type": "code",
   "execution_count": 2,
   "metadata": {},
   "outputs": [
    {
     "name": "stdout",
     "output_type": "stream",
     "text": [
      "Enter a string : Darshan University\n",
      "University Darshan\n"
     ]
    }
   ],
   "source": [
    "str = input(\"Enter a string : \")\n",
    "print(\" \".join(str.split(' ')[::-1])) "
   ]
  },
  {
   "cell_type": "markdown",
   "metadata": {},
   "source": [
    "### 03) WAP to remove ith character from given string"
   ]
  },
  {
   "cell_type": "code",
   "execution_count": 3,
   "metadata": {},
   "outputs": [
    {
     "name": "stdout",
     "output_type": "stream",
     "text": [
      "Enter a string : Darshan\n",
      "Enter index for remove character : 1\n",
      "Output Drshan\n"
     ]
    }
   ],
   "source": [
    "str = input(\"Enter a string : \")\n",
    "i = int(input(\"Enter index for remove character : \"))\n",
    "temp1 = str[:i]\n",
    "temp2 = str[i+1:]\n",
    "print(f'Output {temp1+temp2}')"
   ]
  },
  {
   "cell_type": "markdown",
   "metadata": {},
   "source": [
    "### 04) WAP to find length of String without using len function."
   ]
  },
  {
   "cell_type": "code",
   "execution_count": 4,
   "metadata": {},
   "outputs": [
    {
     "name": "stdout",
     "output_type": "stream",
     "text": [
      "Enter a string : Darshan\n",
      "Length of Darshan is 7\n"
     ]
    }
   ],
   "source": [
    "str = input(\"Enter a string : \")\n",
    "count = 0\n",
    "for i in str:\n",
    "    count+=1\n",
    "print(f\"Length of {str} is {count}\")"
   ]
  },
  {
   "cell_type": "markdown",
   "metadata": {},
   "source": [
    "### 05) WAP to print even length word in string."
   ]
  },
  {
   "cell_type": "code",
   "execution_count": 5,
   "metadata": {},
   "outputs": [
    {
     "name": "stdout",
     "output_type": "stream",
     "text": [
      "Enter a string : Darshan\n",
      "Output = Drhn\n"
     ]
    }
   ],
   "source": [
    "str = input(\"Enter a string : \")\n",
    "print(f\"Output = {str[0::2]}\")"
   ]
  },
  {
   "cell_type": "markdown",
   "metadata": {},
   "source": [
    "### 06) WAP to count numbers of vowels in given string."
   ]
  },
  {
   "cell_type": "code",
   "execution_count": 25,
   "metadata": {},
   "outputs": [
    {
     "name": "stdout",
     "output_type": "stream",
     "text": [
      "Enter a string : Abcd\n",
      "Number of vowels in Abcd is 1\n"
     ]
    }
   ],
   "source": [
    "str = input(\"Enter a string : \")\n",
    "count = 0\n",
    "for i in str.lower():\n",
    "    if i=='a' or i=='e' or i=='i' or i=='o' or i=='u':\n",
    "        count+=1\n",
    "print(f\"Number of vowels in {str} is {count}\")"
   ]
  },
  {
   "cell_type": "markdown",
   "metadata": {},
   "source": [
    "### 07) WAP to convert given array to string."
   ]
  },
  {
   "cell_type": "code",
   "execution_count": 7,
   "metadata": {},
   "outputs": [
    {
     "name": "stdout",
     "output_type": "stream",
     "text": [
      "Darshan University\n"
     ]
    }
   ],
   "source": [
    "list = [\"Darshan\",\"University\"]\n",
    "print(\" \".join(list))"
   ]
  },
  {
   "cell_type": "markdown",
   "metadata": {},
   "source": [
    "### 01) WAP to find out duplicate characters in given string."
   ]
  },
  {
   "cell_type": "code",
   "execution_count": 28,
   "metadata": {},
   "outputs": [
    {
     "name": "stdout",
     "output_type": "stream",
     "text": [
      "Enter a string : Hello World\n",
      "Repeated characters :  l,o,"
     ]
    }
   ],
   "source": [
    "str = input(\"Enter a string : \")\n",
    "temp,count=\"\",0\n",
    "\n",
    "print(\"Repeated characters : \",end=\" \")\n",
    "for i in str:\n",
    "    if(temp.find(i)==-1):\n",
    "        for j in str[str.index(i)+1:]:\n",
    "            if(i==j):\n",
    "                temp+=i\n",
    "                count+=1   \n",
    "    if count>0:\n",
    "        print(i,end=\",\")\n",
    "    count=0"
   ]
  },
  {
   "cell_type": "markdown",
   "metadata": {},
   "source": [
    "### 02) WAP to capitalize the first and last character of each word in a string."
   ]
  },
  {
   "cell_type": "code",
   "execution_count": 26,
   "metadata": {},
   "outputs": [
    {
     "name": "stdout",
     "output_type": "stream",
     "text": [
      "Enter a string : darshan university\n",
      "DarshaN UniversitY "
     ]
    }
   ],
   "source": [
    "str = input(\"Enter a string : \")\n",
    "list = str.split(\" \")\n",
    "for i in list:\n",
    "    print(i[0:1].title()+i[1:len(i)-1]+(i[len(i)-1].title() if(len(i)>1) else \"\") ,end=\" \")"
   ]
  },
  {
   "cell_type": "markdown",
   "metadata": {},
   "source": [
    "### 03) WAP to find Maximum frequency character in String."
   ]
  },
  {
   "cell_type": "code",
   "execution_count": 24,
   "metadata": {},
   "outputs": [
    {
     "name": "stdout",
     "output_type": "stream",
     "text": [
      "Enter a string : Darshan\n",
      "a\n"
     ]
    }
   ],
   "source": [
    "str = input(\"Enter a string : \")\n",
    "f = {}\n",
    "for i in str:\n",
    "    if i in f:\n",
    "        f[i]+=1\n",
    "    else:\n",
    "        f[i]=1\n",
    "print(max(f,key = f.get))"
   ]
  },
  {
   "cell_type": "markdown",
   "metadata": {},
   "source": [
    "### 04) WAP to find Minimum frequency character in String."
   ]
  },
  {
   "cell_type": "code",
   "execution_count": 12,
   "metadata": {},
   "outputs": [
    {
     "name": "stdout",
     "output_type": "stream",
     "text": [
      "Enter a string : Darshan\n",
      "D\n"
     ]
    }
   ],
   "source": [
    "str = input(\"Enter a string : \")\n",
    "f={}\n",
    "for i in str:\n",
    "    if i in f:\n",
    "        f[i]+=1\n",
    "    else:\n",
    "        f[i]=1\n",
    "print(min(f,key = f.get))"
   ]
  },
  {
   "cell_type": "markdown",
   "metadata": {},
   "source": [
    "### 05) WAP to check if a given string is binary string or not"
   ]
  },
  {
   "cell_type": "code",
   "execution_count": 18,
   "metadata": {},
   "outputs": [
    {
     "name": "stdout",
     "output_type": "stream",
     "text": [
      "Enter a string : 0000acasc\n",
      "0000acasc is not binary string\n"
     ]
    }
   ],
   "source": [
    "str = input(\"Enter a string : \")\n",
    "for i in str:\n",
    "    if not(i=='1' or i=='0'):\n",
    "        print(f\"{str} is not binary string\")\n",
    "        break\n",
    "else:\n",
    "    print(f\"{str} is binary string\")"
   ]
  }
 ],
 "metadata": {
  "kernelspec": {
   "display_name": "Python 3 (ipykernel)",
   "language": "python",
   "name": "python3"
  },
  "language_info": {
   "codemirror_mode": {
    "name": "ipython",
    "version": 3
   },
   "file_extension": ".py",
   "mimetype": "text/x-python",
   "name": "python",
   "nbconvert_exporter": "python",
   "pygments_lexer": "ipython3",
   "version": "3.9.12"
  }
 },
 "nbformat": 4,
 "nbformat_minor": 4
}
