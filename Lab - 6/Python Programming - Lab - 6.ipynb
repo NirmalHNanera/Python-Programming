{
 "cells": [
  {
   "cell_type": "markdown",
   "metadata": {},
   "source": [
    "# Tuples, dictionary, set"
   ]
  },
  {
   "cell_type": "markdown",
   "metadata": {},
   "source": [
    "# A"
   ]
  },
  {
   "cell_type": "markdown",
   "metadata": {},
   "source": [
    "### 01) WAP to sort python dictionary by key or value."
   ]
  },
  {
   "cell_type": "code",
   "execution_count": 25,
   "metadata": {},
   "outputs": [
    {
     "name": "stdout",
     "output_type": "stream",
     "text": [
      "{'Vinay': 50, 'Samay': 25, 'Binay': 100, 'Akhshay': 10}\n"
     ]
    }
   ],
   "source": [
    "dict1 = {\"Akshay\":10,\"Binay\":100,\"Vinay\":50,\"Samay\":25}\n",
    "\n",
    "print(dict(sorted(dict1.items(),key=lambda x:x[0],reverse=True)))"
   ]
  },
  {
   "cell_type": "markdown",
   "metadata": {},
   "source": [
    "### 02) WAP to merge two dictionaries given by user."
   ]
  },
  {
   "cell_type": "code",
   "execution_count": 34,
   "metadata": {},
   "outputs": [
    {
     "name": "stdout",
     "output_type": "stream",
     "text": [
      "Enter no. of elements of 1st dictionary : 5\n",
      "Enter key : a\n",
      "Enter value : 1\n",
      "Enter key : b\n",
      "Enter value : 2\n",
      "Enter key : c\n",
      "Enter value : 3\n",
      "Enter key : d\n",
      "Enter value : 4\n",
      "Enter key : e\n",
      "Enter value : 5\n",
      "{'a': '1', 'b': '2', 'c': '3', 'd': '4', 'e': '5'}\n",
      "Enter no. of elements of 1st dictionary : 5\n",
      "Enter key : f\n",
      "Enter value : 6\n",
      "Enter key : g\n",
      "Enter value : 7\n",
      "Enter key : h\n",
      "Enter value : 8\n",
      "Enter key : i\n",
      "Enter value : 9\n",
      "Enter key : j\n",
      "Enter value : 10\n",
      "{'f': '6', 'g': '7', 'h': '8', 'i': '9', 'j': '10'}\n",
      "{'a': '1', 'b': '2', 'c': '3', 'd': '4', 'e': '5', 'f': '6', 'g': '7', 'h': '8', 'i': '9', 'j': '10'}\n"
     ]
    }
   ],
   "source": [
    "# Scan 1st dictionary\n",
    "n1 = int(input(\"Enter no. of elements of 1st dictionary : \"))\n",
    "dict1={}\n",
    "for i in range(n1):\n",
    "    key1 = input(\"Enter key : \")\n",
    "    dict1[key1] = input(\"Enter value : \")\n",
    "print(dict1)\n",
    "    \n",
    "# Scan 2nd dictionary\n",
    "n2 = int(input(\"Enter no. of elements of 1st dictionary : \"))\n",
    "dict2={}\n",
    "for i in range(n1):\n",
    "    key2 = input(\"Enter key : \")\n",
    "    dict2[key2] = input(\"Enter value : \")\n",
    "print(dict2)\n",
    "\n",
    "dict1.update(dict2)\n",
    "print(dict1)"
   ]
  },
  {
   "cell_type": "markdown",
   "metadata": {},
   "source": [
    "### 03) WAP to find tuples that have all elements divisible by K from a list of tuples."
   ]
  },
  {
   "cell_type": "code",
   "execution_count": 1,
   "metadata": {},
   "outputs": [
    {
     "name": "stdout",
     "output_type": "stream",
     "text": [
      "2 4 6\n"
     ]
    }
   ],
   "source": [
    "li=[(5,6,7),(1,2,3),(2,4,6)]\n",
    "\n",
    "for a,b,c in li:\n",
    "  if a%2==0 and b%2==0 and c%2==0:\n",
    "    print(a,b,c)"
   ]
  },
  {
   "cell_type": "markdown",
   "metadata": {},
   "source": [
    "### 04) WAP to find Tuples with positive elements in List of tuples."
   ]
  },
  {
   "cell_type": "code",
   "execution_count": 3,
   "metadata": {},
   "outputs": [
    {
     "name": "stdout",
     "output_type": "stream",
     "text": [
      "5 6 7\n",
      "1 2 3\n",
      "2 4 6\n"
     ]
    }
   ],
   "source": [
    "li=[(5,6,7),(1,2,3),(2,4,6)]\n",
    "\n",
    "for a,b,c in li:\n",
    "  if a>=0 and b>=0 and c>=0:\n",
    "    print(a,b,c)"
   ]
  },
  {
   "cell_type": "markdown",
   "metadata": {},
   "source": [
    "### 05) WAP which perform union of two sets."
   ]
  },
  {
   "cell_type": "code",
   "execution_count": 8,
   "metadata": {},
   "outputs": [
    {
     "name": "stdout",
     "output_type": "stream",
     "text": [
      "Enter no of elements of set 1 : 3\n",
      "Enter element : 1\n",
      "Enter element : 3\n",
      "Enter element : 5\n",
      "Enter no of elements of set 2 : 2\n",
      "Enter element : 2\n",
      "Enter element : 4\n",
      "{'5', '3', '4', '2', '1'}\n"
     ]
    }
   ],
   "source": [
    "s1=set()\n",
    "s2=set()\n",
    "n = int(input(\"Enter no of elements of set 1 : \"))\n",
    "for i in range(n):\n",
    "  s1.add(input(\"Enter element : \"))\n",
    "n = int(input(\"Enter no of elements of set 2 : \"))\n",
    "for i in range(n):\n",
    "  s2.add(input(\"Enter element : \"))  \n",
    "print(s1.union(s2)) \n"
   ]
  },
  {
   "cell_type": "markdown",
   "metadata": {},
   "source": [
    "# B"
   ]
  },
  {
   "cell_type": "markdown",
   "metadata": {},
   "source": [
    "### 01) WAP to convert binary tuple into integer."
   ]
  },
  {
   "cell_type": "code",
   "execution_count": 11,
   "metadata": {},
   "outputs": [
    {
     "data": {
      "text/plain": [
       "5"
      ]
     },
     "execution_count": 11,
     "metadata": {},
     "output_type": "execute_result"
    }
   ],
   "source": [
    "tup=(\"1\",\"0\",\"1\")\n",
    "str = \"\".join(tup)\n",
    "n = int(str,2)\n",
    "n"
   ]
  },
  {
   "cell_type": "markdown",
   "metadata": {},
   "source": [
    "### 02) WAP to count frequency in list by dictionary."
   ]
  },
  {
   "cell_type": "code",
   "execution_count": 12,
   "metadata": {},
   "outputs": [
    {
     "name": "stdout",
     "output_type": "stream",
     "text": [
      "Enter no of elements : 5\n",
      "Enter element : 1\n",
      "Enter element : 2\n",
      "Enter element : 2\n",
      "Enter element : 3\n",
      "Enter element : 4\n",
      "{'1': 1, '2': 2, '3': 1, '4': 1}\n"
     ]
    }
   ],
   "source": [
    "n = int(input(\"Enter no of elements : \"))\n",
    "li=[]\n",
    "for i in range(n):\n",
    "  li.append(input(\"Enter element : \"))\n",
    "  \n",
    "dict1 = {}\n",
    "for i in li:\n",
    "  if i in dict1:\n",
    "    dict1[i]+=1\n",
    "  else:\n",
    "    dict1[i]=1  \n",
    "\n",
    "print(dict1)    "
   ]
  },
  {
   "cell_type": "markdown",
   "metadata": {},
   "source": [
    "### 03) WAP to remove all the duplicate words from the list using dictionary."
   ]
  },
  {
   "cell_type": "code",
   "execution_count": 24,
   "metadata": {},
   "outputs": [
    {
     "name": "stdout",
     "output_type": "stream",
     "text": [
      "Enter no of elements : 5\n",
      "Enter element : 1\n",
      "Enter element : 1\n",
      "Enter element : 2\n",
      "Enter element : 2\n",
      "Enter element : 3\n",
      "['1', '2', '3']\n",
      "['1', '2', '3']\n"
     ]
    }
   ],
   "source": [
    "n = int(input(\"Enter no of elements : \"))\n",
    "li=[]\n",
    "for i in range(n):\n",
    "  li.append(input(\"Enter element : \"))\n",
    "li2=[]\n",
    "dict1 = {}\n",
    "for i in li:\n",
    "  if i in dict1: \n",
    "    continue\n",
    "  else:\n",
    "    li2.append(i)\n",
    "    dict1[i]=1  \n",
    "\n",
    "print(li2)\n",
    "\n",
    "# OR\n",
    "\n",
    "dict1 = dict.fromkeys(li,1)\n",
    "li = list(dict1.keys())\n",
    "print(li)"
   ]
  }
 ],
 "metadata": {
  "kernelspec": {
   "display_name": "Python 3 (ipykernel)",
   "language": "python",
   "name": "python3"
  },
  "language_info": {
   "codemirror_mode": {
    "name": "ipython",
    "version": 3
   },
   "file_extension": ".py",
   "mimetype": "text/x-python",
   "name": "python",
   "nbconvert_exporter": "python",
   "pygments_lexer": "ipython3",
   "version": "3.9.12"
  }
 },
 "nbformat": 4,
 "nbformat_minor": 4
}
