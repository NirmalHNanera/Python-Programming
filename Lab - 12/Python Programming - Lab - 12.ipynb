{
 "cells": [
  {
   "cell_type": "markdown",
   "metadata": {},
   "source": [
    "<a href='https://www.darshan.ac.in/'> <img src='https://www.darshan.ac.in/Content/media/DU_Logo.svg' width=\"250\" height=\"300\"/></a>\n",
    "<pre>\n",
    "<center><b><h1>Python Programming - 2101CS405</b></center>\n",
    "<center><b><h1>Lab - 12</b></center>    \n",
    "<pre>"
   ]
  },
  {
   "cell_type": "markdown",
   "metadata": {},
   "source": [
    "# OOP"
   ]
  },
  {
   "cell_type": "markdown",
   "metadata": {},
   "source": [
    "### 01) Write a Program to create a class by name Students, and initialize attributes like name, age, and grade while creating an object."
   ]
  },
  {
   "cell_type": "code",
   "execution_count": 1,
   "metadata": {},
   "outputs": [
    {
     "data": {
      "text/plain": [
       "'abc'"
      ]
     },
     "execution_count": 1,
     "metadata": {},
     "output_type": "execute_result"
    }
   ],
   "source": [
    "class Student:\n",
    "    def __init__(self,name,age,grade):\n",
    "        self.name=name\n",
    "        self.age=age\n",
    "        self.grade=grade\n",
    "s1 = Student(\"abc\",12,\"A+\")\n",
    "s1.name"
   ]
  },
  {
   "cell_type": "markdown",
   "metadata": {},
   "source": [
    "### 02) Create a class named Bank_Account with Account_No, User_Name, Email,Account_Type and Account_Balance data members. Also create a method GetAccountDetails() and DisplayAccountDetails(). Create main method to demonstrate the Bank_Account class."
   ]
  },
  {
   "cell_type": "code",
   "execution_count": 7,
   "metadata": {},
   "outputs": [
    {
     "name": "stdout",
     "output_type": "stream",
     "text": [
      "Enter Account No : 101\n",
      "Enter User Name : asdf\n",
      "Enter email : abc@gmail.com\n",
      "Enter Account Type : savings\n",
      "Enter balance : 2500000\n",
      "-----------Account Details---------------\n",
      "Account No :  101\n",
      "User Name :  asdf\n",
      "Email :  abc@gmail.com\n",
      "Account Type :  savings\n",
      "Account Balance :  2500000.0\n"
     ]
    }
   ],
   "source": [
    "class Bank_Account:\n",
    "    account_no=0\n",
    "    user_name=\"\"\n",
    "    email=\"\"\n",
    "    account_type=\"\"\n",
    "    account_balance=0.0\n",
    "    def getAccountDetails(self,account_no,user_name,email,account_type,account_balance):\n",
    "        self.account_no=account_no\n",
    "        self.user_name=user_name\n",
    "        self.email=email\n",
    "        self.account_type=account_type\n",
    "        self.account_balance=account_balance\n",
    "    \n",
    "    def displayAccountDetails(self):\n",
    "        print(\"-----------Account Details---------------\")\n",
    "        print(\"Account No : \",self.account_no)\n",
    "        print(\"User Name : \",self.user_name)\n",
    "        print(\"Email : \",self.email)\n",
    "        print(\"Account Type : \",self.account_type)\n",
    "        print(\"Account Balance : \",self.account_balance)\n",
    "\n",
    "acc1 = Bank_Account()\n",
    "account_no=input(\"Enter Account No : \")\n",
    "user_name=input(\"Enter User Name : \")\n",
    "email=input(\"Enter email : \")\n",
    "account_type=input(\"Enter Account Type : \")\n",
    "balance=float(input(\"Enter balance : \"))\n",
    "acc1.getAccountDetails(account_no,user_name,email,account_type,balance)\n",
    "acc1.displayAccountDetails()"
   ]
  },
  {
   "cell_type": "markdown",
   "metadata": {},
   "source": [
    "### 03) WAP to create Circle class with area and perimeter function to find area and perimeter of circle."
   ]
  },
  {
   "cell_type": "code",
   "execution_count": 10,
   "metadata": {},
   "outputs": [
    {
     "name": "stdout",
     "output_type": "stream",
     "text": [
      "Enter Radius : 10\n",
      "Area of Circle with radius 10.0 is : 314.1592653589793\n",
      "Perimeter of Circle with radius 10.0 is : 62.83185307179586\n"
     ]
    }
   ],
   "source": [
    "import math\n",
    "class Circle:\n",
    "    def __init__(self,r):\n",
    "        self.r=r\n",
    "    def area(self):\n",
    "        print(\"Area of Circle with radius\",self.r,\"is :\",math.pi*self.r*self.r)\n",
    "    def perimeter(self):\n",
    "        print(\"Perimeter of Circle with radius\",self.r,\"is :\",2*math.pi*self.r)\n",
    "\n",
    "c1=Circle(float(input(\"Enter Radius : \")))\n",
    "c1.area()\n",
    "c1.perimeter()"
   ]
  },
  {
   "cell_type": "markdown",
   "metadata": {},
   "source": [
    "### 04) Create a class for employees that includes attributes such as name, age, salary, and methods to update and display employee information."
   ]
  },
  {
   "cell_type": "code",
   "execution_count": 9,
   "metadata": {},
   "outputs": [
    {
     "name": "stdout",
     "output_type": "stream",
     "text": [
      "Enter Employee's name : asdf\n",
      "Enter Employee's age : 25\n",
      "Enter Employee's salary : 50000\n",
      "-------Employee's Information-------\n",
      "Employee Name : asdf\n",
      "Employee Age : 25\n",
      "Employee Salary : 50000.0\n"
     ]
    }
   ],
   "source": [
    "class Employee:\n",
    "    name=\"\"\n",
    "    age=0\n",
    "    salary=0.0\n",
    "    def updateInfo(self,name,age,salary):\n",
    "        self.name=name\n",
    "        self.age=age\n",
    "        self.salary=salary\n",
    "    def diplayInfo(self):\n",
    "        print(\"-------Employee's Information-------\")\n",
    "        print(\"Employee Name :\",self.name)\n",
    "        print(\"Employee Age :\",self.age)\n",
    "        print(\"Employee Salary :\",self.salary)\n",
    "e1 = Employee()\n",
    "name = input(\"Enter Employee's name : \")\n",
    "age = input(\"Enter Employee's age : \")\n",
    "salary = float(input(\"Enter Employee's salary : \"))\n",
    "e1.updateInfo(name,age,salary)\n",
    "e1.diplayInfo()"
   ]
  },
  {
   "cell_type": "markdown",
   "metadata": {},
   "source": [
    "### 05) Create a bank account class with methods to deposit, withdraw, and check balance."
   ]
  },
  {
   "cell_type": "code",
   "execution_count": 27,
   "metadata": {},
   "outputs": [
    {
     "name": "stdout",
     "output_type": "stream",
     "text": [
      "Enter Balance :10\n",
      "---------------------------------\n",
      "Your current balance is : 10.0\n",
      "---------------------------------\n",
      "Enter deposite amount : 5\n",
      "---------------------------------\n",
      "Your current balance is : 15.0\n",
      "---------------------------------\n",
      "Enter withdrawl amount : 20\n",
      "Sorry! Not enough banace for withdraw!\n",
      "---------------------------------\n",
      "Your current balance is : 15.0\n",
      "---------------------------------\n"
     ]
    }
   ],
   "source": [
    "class Bank_Account:\n",
    "    def __init__(self,balance):\n",
    "        self.balance=balance\n",
    "    def deposite(self,amount):\n",
    "        self.balance+=amount\n",
    "    def withdraw(self,amount):\n",
    "        if(self.balance<amount):\n",
    "            print(\"Sorry! Not enough banace for withdraw!\")\n",
    "        else:\n",
    "            self.balance-=amount\n",
    "    def check_balance(self):\n",
    "        print(\"---------------------------------\")\n",
    "        print(\"Your current balance is :\",self.balance)\n",
    "        print(\"---------------------------------\")\n",
    "b1 = Bank_Account(float(input(\"Enter Balance :\")))\n",
    "b1.check_balance()\n",
    "b1.deposite(float(input(\"Enter deposite amount : \")))\n",
    "b1.check_balance()\n",
    "b1.withdraw(float(input(\"Enter withdrawl amount : \")))\n",
    "b1.check_balance()"
   ]
  },
  {
   "cell_type": "markdown",
   "metadata": {},
   "source": [
    "### 06) Create a class for managing inventory that includes attributes such as item name, price, quantity, and methods to add, remove, and update items."
   ]
  },
  {
   "cell_type": "code",
   "execution_count": 45,
   "metadata": {},
   "outputs": [
    {
     "name": "stdout",
     "output_type": "stream",
     "text": [
      "Enter name : Shoes\n",
      "Enter price : 5000\n",
      "Enter quantity2\n",
      "[{'name': 'Shoes', 'price': 5000.0, 'quantity': 2.0}]\n",
      "Enter item name you want to remove : asdf\n",
      "Item is not Found\n",
      "[{'name': 'Shoes', 'price': 5000.0, 'quantity': 2.0}]\n",
      "Enter old name to update : Shoes\n",
      "Enter new name : Nike Shoes\n",
      "Enter new price :8000\n",
      "Enter new quantity3\n"
     ]
    }
   ],
   "source": [
    "class Inventory:\n",
    "    name=\"\"\n",
    "    price=0.0\n",
    "    quantity=0.0\n",
    "    map1={}\n",
    "    inventory_list=[]\n",
    "    \n",
    "    def add(self,name,price,quantity):\n",
    "        self.map1['name']=name\n",
    "        self.map1['price']=price\n",
    "        self.map1['quantity']=quantity\n",
    "        Inventory.inventory_list.append(self.map1)\n",
    "        print(Inventory.inventory_list)\n",
    "    def remove(self,name):\n",
    "        for i in Inventory.inventory_list:\n",
    "            if(i['name']==name):\n",
    "                del Inventory.inventory_list[Inventory.inventory_list.index(i)]\n",
    "                break\n",
    "        else:\n",
    "            print(\"Item is not Found\")\n",
    "        print(Inventory.inventory_list)\n",
    "    \n",
    "    def update(self,old_name,name,price,quantity):\n",
    "        for i in Inventory.inventory_list:\n",
    "            if(i['name']==name):\n",
    "                Inventory.inventory_list[Inventory.inventory_list.index(i)]['name']=name\n",
    "                Inventory.inventory_list[Inventory.inventory_list.index(i)]['price']=price\n",
    "                Inventory.inventory_list[Inventory.inventory_list.index(i)]['quantity']=quantity\n",
    "                print(Inventory.inventory_list)\n",
    "                break\n",
    "        else:\n",
    "            print(\"Item not found\")\n",
    "        \n",
    "            \n",
    "obj = Inventory()\n",
    "name=input(\"Enter name : \")\n",
    "price=float(input(\"Enter price : \"))\n",
    "quantity=float(input(\"Enter quantity\"))\n",
    "obj.add(name,price,quantity)\n",
    "delete_item = input(\"Enter item name you want to remove : \")\n",
    "obj.remove(delete_item)\n",
    "old_name=input(\"Enter old name to update : \")\n",
    "new_name=input(\"Enter new name : \")\n",
    "new_price=float(input(\"Enter new price :\"))\n",
    "new_quantity=float(input(\"Enter new quantity\"))"
   ]
  },
  {
   "cell_type": "markdown",
   "metadata": {},
   "source": [
    "### 09) Create a Class with instance attributes"
   ]
  },
  {
   "cell_type": "code",
   "execution_count": 28,
   "metadata": {},
   "outputs": [
    {
     "data": {
      "text/plain": [
       "'abc'"
      ]
     },
     "execution_count": 28,
     "metadata": {},
     "output_type": "execute_result"
    }
   ],
   "source": [
    "class Student:\n",
    "    def __init__(self,name,age,grade):\n",
    "        self.name=name\n",
    "        self.age=age\n",
    "        self.grade=grade\n",
    "s1 = Student(\"abc\",12,\"A+\")\n",
    "s1.name"
   ]
  },
  {
   "cell_type": "markdown",
   "metadata": {},
   "source": [
    "### 07)\n",
    "Create one class student_kit <br>\n",
    "Within the student_kit class create one class attribute principal name ( Mr ABC ) <br>\n",
    "Create one attendance method and take input as number of days. <br>\n",
    "While creating student take input their name . <br>\n",
    "Create one certificate for each student by taking input of number of days present in class. <br>"
   ]
  },
  {
   "cell_type": "code",
   "execution_count": null,
   "metadata": {},
   "outputs": [],
   "source": []
  },
  {
   "cell_type": "markdown",
   "metadata": {},
   "source": [
    "### 08) Define Time class with hour and minute as data member. Also define addition method to add two time objects."
   ]
  },
  {
   "cell_type": "code",
   "execution_count": 26,
   "metadata": {},
   "outputs": [
    {
     "name": "stdout",
     "output_type": "stream",
     "text": [
      "-------------------\n",
      "New Time = 6 : 25\n"
     ]
    }
   ],
   "source": [
    "class Time:\n",
    "    hour=0\n",
    "    minutes=0\n",
    "    def __init__(self,hours,minutes):\n",
    "        self.hours=hours\n",
    "        self.minutes=minutes\n",
    "    def addTime(self,t1,t2):\n",
    "        self.hours=t1.hours+t2.hours\n",
    "        self.minutes=t1.minutes+t2.minutes\n",
    "        if(self.minutes>=60):\n",
    "            self.minutes-=60\n",
    "            self.hours+=1\n",
    "        print(\"-------------------\")\n",
    "        print(\"New Time =\",self.hours,\":\",self.minutes)\n",
    "t1=Time(2,10)\n",
    "t2=Time(4,15)\n",
    "t3=Time(0,0)\n",
    "t3.addTime(t1,t2)"
   ]
  },
  {
   "cell_type": "markdown",
   "metadata": {},
   "source": [
    "### 09) WAP to demonstrate inheritance in python."
   ]
  },
  {
   "cell_type": "code",
   "execution_count": null,
   "metadata": {},
   "outputs": [],
   "source": []
  },
  {
   "cell_type": "markdown",
   "metadata": {},
   "source": [
    "### 10) Create a child class Bus that will inherit all of the variables and methods of the Vehicle class\n",
    "class Vehicle:\n",
    "\n",
    "    def __init__(self, name, max_speed, mileage):\n",
    "        self.name = name\n",
    "        self.max_speed = max_speed\n",
    "        self.mileage = mileage\n",
    "        \n",
    "Create a Bus object that will inherit all of the variables and methods of the parent Vehicle class and display it.        "
   ]
  },
  {
   "cell_type": "code",
   "execution_count": null,
   "metadata": {},
   "outputs": [],
   "source": []
  },
  {
   "cell_type": "markdown",
   "metadata": {},
   "source": [
    "### 11)  Create a class hierarchy for different types of animals, with a parent Animal class and child classes for specific animals like Cat, Dog, and Bird."
   ]
  },
  {
   "cell_type": "code",
   "execution_count": null,
   "metadata": {},
   "outputs": [],
   "source": []
  },
  {
   "cell_type": "markdown",
   "metadata": {},
   "source": [
    "### 12) Create a class hierarchy for different types of vehicles, with a parent Vehicle class and child classes for specific vehicles like Car, Truck, and Motorcycle."
   ]
  },
  {
   "cell_type": "code",
   "execution_count": null,
   "metadata": {},
   "outputs": [],
   "source": []
  },
  {
   "cell_type": "markdown",
   "metadata": {},
   "source": [
    "### 13)  Create a class hierarchy for different types of bank accounts, with a parent Account class and child classes for specific account types like Checking, Savings, and Credit."
   ]
  },
  {
   "cell_type": "code",
   "execution_count": null,
   "metadata": {},
   "outputs": [],
   "source": []
  },
  {
   "cell_type": "markdown",
   "metadata": {},
   "source": [
    "### 14) Create a Shape class with a draw method that is not implemented. Create three child classes Rectangle, Circle, and Triangle that implement the draw method with their respective drawing behaviors. Create a list of Shape objects that includes one instance of each child class, and then iterate through the list and call the draw method on each object."
   ]
  },
  {
   "cell_type": "code",
   "execution_count": null,
   "metadata": {},
   "outputs": [],
   "source": []
  },
  {
   "cell_type": "markdown",
   "metadata": {},
   "source": [
    "### 15) Create a Person class with a constructor that takes two arguments name and age. Create a child class Employee that inherits from Person and adds a new attribute salary. Override the __init__ method in Employee to call the parent class's __init__ method using the super keyword, and then initialize the salary attribute."
   ]
  },
  {
   "cell_type": "code",
   "execution_count": null,
   "metadata": {},
   "outputs": [],
   "source": []
  }
 ],
 "metadata": {
  "kernelspec": {
   "display_name": "Python 3 (ipykernel)",
   "language": "python",
   "name": "python3"
  },
  "language_info": {
   "codemirror_mode": {
    "name": "ipython",
    "version": 3
   },
   "file_extension": ".py",
   "mimetype": "text/x-python",
   "name": "python",
   "nbconvert_exporter": "python",
   "pygments_lexer": "ipython3",
   "version": "3.9.12"
  }
 },
 "nbformat": 4,
 "nbformat_minor": 4
}
